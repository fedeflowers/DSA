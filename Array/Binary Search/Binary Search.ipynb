{
 "cells": [
  {
   "cell_type": "markdown",
   "metadata": {},
   "source": [
    "# leet 2529\n",
    "\n",
    "find index of last negative and index of first positive to find num of neg and positive in log(time).\n",
    "use binary search for both finding\n",
    "\n",
    "count pos or neg if you wannt linear time"
   ]
  },
  {
   "cell_type": "code",
   "execution_count": null,
   "metadata": {},
   "outputs": [],
   "source": [
    "class Solution:\n",
    "    def maximumCount(self, nums: List[int]) -> int:\n",
    "        #binary search for finding last negative and first positive\n",
    "        start = 0\n",
    "        end = len(nums) -1\n",
    "        num_neg = 0\n",
    "        num_pos = 0\n",
    "\n",
    "        while start <= end:\n",
    "            mid = (end + start) //2\n",
    "            if nums[mid] < 0:\n",
    "                start = mid +1\n",
    "            elif nums[mid] >= 0:\n",
    "                end = mid -1\n",
    "\n",
    "        start -= 1\n",
    "\n",
    "        if start >= 0:\n",
    "            num_neg = start+1\n",
    "\n",
    "        start = 0\n",
    "        end = len(nums) -1\n",
    "\n",
    "        while start <= end:\n",
    "            mid = (end + start) //2\n",
    "            if nums[mid] > 0:\n",
    "                end = mid - 1\n",
    "            elif nums[mid] <= 0:\n",
    "                start = mid + 1\n",
    "        num_pos = len(nums) - start \n",
    "        \n",
    "        return max(num_pos, num_neg)\n",
    "    "
   ]
  }
 ],
 "metadata": {
  "language_info": {
   "name": "python"
  }
 },
 "nbformat": 4,
 "nbformat_minor": 2
}

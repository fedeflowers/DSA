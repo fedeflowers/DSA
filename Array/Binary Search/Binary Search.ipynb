{
 "cells": [
  {
   "cell_type": "markdown",
   "metadata": {},
   "source": [
    "# leet 2529\n",
    "\n",
    "find index of last negative and index of first positive to find num of neg and positive in log(time).\n",
    "use binary search for both finding\n",
    "\n",
    "count pos or neg if you wannt linear time"
   ]
  },
  {
   "cell_type": "code",
   "execution_count": null,
   "metadata": {},
   "outputs": [],
   "source": [
    "class Solution:\n",
    "    def maximumCount(self, nums: List[int]) -> int:\n",
    "        #binary search for finding last negative and first positive\n",
    "        start = 0\n",
    "        end = len(nums) -1\n",
    "        num_neg = 0\n",
    "        num_pos = 0\n",
    "\n",
    "        while start <= end:\n",
    "            mid = (end + start) //2\n",
    "            if nums[mid] < 0:\n",
    "                start = mid +1\n",
    "            elif nums[mid] >= 0:\n",
    "                end = mid -1\n",
    "\n",
    "        start -= 1\n",
    "\n",
    "        if start >= 0:\n",
    "            num_neg = start+1\n",
    "\n",
    "        start = 0\n",
    "        end = len(nums) -1\n",
    "\n",
    "        while start <= end:\n",
    "            mid = (end + start) //2\n",
    "            if nums[mid] > 0:\n",
    "                end = mid - 1\n",
    "            elif nums[mid] <= 0:\n",
    "                start = mid + 1\n",
    "        num_pos = len(nums) - start \n",
    "        \n",
    "        return max(num_pos, num_neg)\n",
    "    "
   ]
  },
  {
   "cell_type": "markdown",
   "metadata": {},
   "source": [
    "# leet 2594\n",
    "try to repair all cars in fixed time, and then understand how to efficiently find the best fixed time, aka the first fixed time when u can repair all cars"
   ]
  },
  {
   "cell_type": "code",
   "execution_count": null,
   "metadata": {},
   "outputs": [],
   "source": [
    "class Solution:\n",
    "    def repairCars(self, ranks: List[int], cars: int) -> int:\n",
    "        #first thing to be done: For a predefined fixed time, can all the cars be repaired?\n",
    "        # try it in linear time on answer, then upgrade it to search for answer with binary search, log(cars) time\n",
    "        min_time = 1\n",
    "\n",
    "        #if i have a fixed time, can i repair the cars?\n",
    "        def can_repair(cars, ranks, fixed_time):\n",
    "            #for each mechanic calculate how many they can repair in fixed time and then subtract from cars, if it is <= 0 then True\n",
    "            for rank in ranks:\n",
    "                cars -= math.floor((fixed_time/rank)** (1/2))\n",
    "                if cars <= 0: return True\n",
    "            return False\n",
    "\n",
    "        #not bin search:\n",
    "        # while not can_repair(cars, ranks, min_time):\n",
    "        #     min_time += 1\n",
    "\n",
    "        #bin search\n",
    "        max_time = max(ranks) * cars**2 #max time to repair all cars, the answer is between 1 and this number\n",
    "        while min_time <= max_time:\n",
    "            mid = (max_time + min_time) //2\n",
    "            if can_repair(cars, ranks, mid):\n",
    "                max_time = mid - 1\n",
    "            else:\n",
    "                min_time = mid + 1\n",
    "        return min_time"
   ]
  }
 ],
 "metadata": {
  "language_info": {
   "name": "python"
  }
 },
 "nbformat": 4,
 "nbformat_minor": 2
}

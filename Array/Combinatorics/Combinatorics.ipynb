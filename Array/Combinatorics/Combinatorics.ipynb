{
 "cells": [
  {
   "cell_type": "markdown",
   "metadata": {},
   "source": [
    "# Combinatorics (leet 1726)\n",
    "\n",
    "math.comb = binomial coeffienct, *8 because you can swap 2 pairs (a,b) (c,d) - > (c, d) (a, b) and you can also swap the single pairs e.g -> (b,a) (d,c) so 2 pairs X the swap of the pairs (2) X the swap inside the pair (2) = 2*2*2 = 8\n",
    "if you multiply the number of ways to choose the two pairs by the number of arrangements, you would have:\n",
    "bin coeff * 8  = to: 4 * value * (value-1)"
   ]
  },
  {
   "cell_type": "code",
   "execution_count": null,
   "metadata": {},
   "outputs": [],
   "source": [
    "class Solution:\n",
    "    def tupleSameProduct(self, nums: List[int]) -> int:\n",
    "        n = len(nums)\n",
    "        prds = defaultdict(int)\n",
    "        res = 0\n",
    "        #create tuples:\n",
    "        for i in range(n):\n",
    "            for j in range(i+1, n):\n",
    "                prds[nums[i] * nums[j]] += 1\n",
    "\n",
    "        for _, value in prds.items():\n",
    "            if value > 1:\n",
    "                #compute combinatorics\n",
    "                res += math.comb(value, 2) * 8\n",
    "        return res\n",
    "            "
   ]
  }
 ],
 "metadata": {
  "language_info": {
   "name": "python"
  }
 },
 "nbformat": 4,
 "nbformat_minor": 2
}

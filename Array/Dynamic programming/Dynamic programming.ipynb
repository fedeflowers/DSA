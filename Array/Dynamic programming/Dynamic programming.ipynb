{
 "cells": [
  {
   "cell_type": "markdown",
   "metadata": {},
   "source": [
    "# leet 1749\n",
    "\n",
    "use kedane's algorithm twice"
   ]
  },
  {
   "cell_type": "code",
   "execution_count": null,
   "metadata": {},
   "outputs": [],
   "source": [
    "class Solution:\n",
    "    def maxAbsoluteSum(self, nums: List[int]) -> int:\n",
    "        #serve un current e un max, se il current super max, aggiorna\n",
    "        curr_pos = curr_neg = pos = neg = 0\n",
    "        #Kedane's algorithm, take min sum and max sum\n",
    "        #max sum\n",
    "        for el in nums:\n",
    "            curr_pos += el\n",
    "            curr_neg += el\n",
    "            pos = max(curr_pos, pos, el)\n",
    "            curr_pos = max(curr_pos, el)\n",
    "            neg = min(curr_neg, neg, el)\n",
    "            curr_neg = min(curr_neg, el)\n",
    "\n",
    "        return max(pos, abs(neg))"
   ]
  }
 ],
 "metadata": {
  "language_info": {
   "name": "python"
  }
 },
 "nbformat": 4,
 "nbformat_minor": 2
}

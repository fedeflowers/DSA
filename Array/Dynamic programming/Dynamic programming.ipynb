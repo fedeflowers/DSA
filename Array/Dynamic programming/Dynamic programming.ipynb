{
 "cells": [
  {
   "cell_type": "markdown",
   "metadata": {},
   "source": [
    "# leet 1749\n",
    "\n",
    "use kedane's algorithm twice"
   ]
  },
  {
   "cell_type": "code",
   "execution_count": null,
   "metadata": {},
   "outputs": [],
   "source": [
    "class Solution:\n",
    "    def maxAbsoluteSum(self, nums: List[int]) -> int:\n",
    "        #serve un current e un max, se il current super max, aggiorna\n",
    "        curr_pos = curr_neg = pos = neg = 0\n",
    "        #Kedane's algorithm, take min sum and max sum\n",
    "        #max sum\n",
    "        for el in nums:\n",
    "            curr_pos += el\n",
    "            curr_neg += el\n",
    "            pos = max(curr_pos, pos, el)\n",
    "            curr_pos = max(curr_pos, el)\n",
    "            neg = min(curr_neg, neg, el)\n",
    "            curr_neg = min(curr_neg, el)\n",
    "\n",
    "        return max(pos, abs(neg))"
   ]
  },
  {
   "cell_type": "markdown",
   "metadata": {},
   "source": [
    "# leet 1749 dynamic programming\n",
    "To maximize the absolute subarray sum, we need to find two prefix sums — one that is as large as possible and another that is as small as possible. This is because the sum of any subarray between indices i and j can be expressed as prefixSum[j] - prefixSum[i]. The greater the difference between prefixSum[j] and prefixSum[i], the larger the absolute sum of the subarray"
   ]
  },
  {
   "cell_type": "code",
   "execution_count": null,
   "metadata": {},
   "outputs": [],
   "source": [
    "class Solution:\n",
    "    def maxAbsoluteSum(self, nums):\n",
    "        min_prefix_sum = 0\n",
    "        max_prefix_sum = 0\n",
    "        prefix_sum = 0\n",
    "\n",
    "        for num in nums:\n",
    "            prefix_sum += num\n",
    "\n",
    "            min_prefix_sum = min(min_prefix_sum, prefix_sum)\n",
    "            max_prefix_sum = max(max_prefix_sum, prefix_sum)\n",
    "\n",
    "        return max_prefix_sum - min_prefix_sum"
   ]
  }
 ],
 "metadata": {
  "language_info": {
   "name": "python"
  }
 },
 "nbformat": 4,
 "nbformat_minor": 2
}

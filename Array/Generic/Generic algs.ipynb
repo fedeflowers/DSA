{
 "cells": [
  {
   "cell_type": "markdown",
   "metadata": {},
   "source": [
    "# Check parity of pairs (Leet 3151)"
   ]
  },
  {
   "cell_type": "code",
   "execution_count": null,
   "metadata": {},
   "outputs": [],
   "source": [
    "class Solution:\n",
    "    def isArraySpecial(self, nums: List[int]) -> bool:\n",
    "        n = len(nums)\n",
    "        for i in range(n):\n",
    "            if 0 <= i-1< n :\n",
    "                if nums[i] % 2 == 0 and nums[i-1] % 2 == 0:\n",
    "                    return False\n",
    "                elif nums[i] % 2 != 0 and nums[i-1] % 2 != 0:\n",
    "                    return False\n",
    "        return True"
   ]
  },
  {
   "cell_type": "markdown",
   "metadata": {},
   "source": [
    "# leet 1752\n",
    "There must be only 1 starting point"
   ]
  },
  {
   "cell_type": "code",
   "execution_count": null,
   "metadata": {},
   "outputs": [],
   "source": [
    "class Solution:\n",
    "    def check(self, nums: List[int]) -> bool:\n",
    "        n = len(nums)\n",
    "        rotation_points = 0\n",
    "        for i in range(n):\n",
    "            if nums[i] > nums[(i+1)%n]:\n",
    "                rotation_points +=1\n",
    "            if rotation_points >= 2:\n",
    "                return False\n",
    "        return True\n"
   ]
  },
  {
   "cell_type": "markdown",
   "metadata": {},
   "source": [
    "# longest monotonic increasing or decreasing array (leet 3105)"
   ]
  },
  {
   "cell_type": "code",
   "execution_count": null,
   "metadata": {},
   "outputs": [],
   "source": [
    "class Solution:\n",
    "    def longestMonotonicSubarray(self, nums: List[int]) -> int:\n",
    "        n = len(nums)\n",
    "        s_i = 0\n",
    "        s_d = 0\n",
    "        i = 0\n",
    "        res = 1\n",
    "        for i in range(1, n):\n",
    "            if nums[i] <= nums[i-1]:\n",
    "                res = max(res, i-s_i)\n",
    "                s_i = i\n",
    "            if nums[i] >= nums[i-1]:\n",
    "                res = max(res, i-s_d)\n",
    "                s_d = i\n",
    "        res = max(res, i-s_i +1)\n",
    "        res = max(res, i-s_d +1)\n",
    "        \n",
    "        return res"
   ]
  },
  {
   "cell_type": "markdown",
   "metadata": {},
   "source": [
    "Ascending array (Leet 1800)\n",
    "\n",
    "keep incrementing the max value of the ascending array found, if it's not ascending, reset"
   ]
  },
  {
   "cell_type": "code",
   "execution_count": null,
   "metadata": {},
   "outputs": [],
   "source": [
    "class Solution:\n",
    "    def maxAscendingSum(self, nums: List[int]) -> int:\n",
    "        tmp = nums[0]\n",
    "        res = nums[0]\n",
    "        n = len(nums)\n",
    "        for i in range(1, n):\n",
    "            if nums[i-1] < nums[i]:\n",
    "                tmp += nums[i]\n",
    "                res = max(res, tmp)\n",
    "            else:\n",
    "                tmp = nums[i]\n",
    "                \n",
    "        return res\n",
    "        "
   ]
  }
 ],
 "metadata": {
  "language_info": {
   "name": "python"
  }
 },
 "nbformat": 4,
 "nbformat_minor": 2
}

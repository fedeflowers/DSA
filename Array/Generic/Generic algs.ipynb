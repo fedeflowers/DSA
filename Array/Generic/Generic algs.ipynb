{
 "cells": [
  {
   "cell_type": "markdown",
   "metadata": {},
   "source": [
    "# Check parity of pairs (Leet 3151)"
   ]
  },
  {
   "cell_type": "code",
   "execution_count": null,
   "metadata": {},
   "outputs": [],
   "source": [
    "class Solution:\n",
    "    def isArraySpecial(self, nums: List[int]) -> bool:\n",
    "        n = len(nums)\n",
    "        for i in range(n):\n",
    "            if 0 <= i-1< n :\n",
    "                if nums[i] % 2 == 0 and nums[i-1] % 2 == 0:\n",
    "                    return False\n",
    "                elif nums[i] % 2 != 0 and nums[i-1] % 2 != 0:\n",
    "                    return False\n",
    "        return True"
   ]
  }
 ],
 "metadata": {
  "language_info": {
   "name": "python"
  }
 },
 "nbformat": 4,
 "nbformat_minor": 2
}

{
 "cells": [
  {
   "cell_type": "markdown",
   "metadata": {},
   "source": [
    "# Check parity of pairs (Leet 3151)"
   ]
  },
  {
   "cell_type": "code",
   "execution_count": null,
   "metadata": {},
   "outputs": [],
   "source": [
    "class Solution:\n",
    "    def isArraySpecial(self, nums: List[int]) -> bool:\n",
    "        n = len(nums)\n",
    "        for i in range(n):\n",
    "            if 0 <= i-1< n :\n",
    "                if nums[i] % 2 == 0 and nums[i-1] % 2 == 0:\n",
    "                    return False\n",
    "                elif nums[i] % 2 != 0 and nums[i-1] % 2 != 0:\n",
    "                    return False\n",
    "        return True"
   ]
  },
  {
   "cell_type": "markdown",
   "metadata": {},
   "source": [
    "# leet 1752\n",
    "There must be only 1 starting point"
   ]
  },
  {
   "cell_type": "code",
   "execution_count": null,
   "metadata": {},
   "outputs": [],
   "source": [
    "class Solution:\n",
    "    def check(self, nums: List[int]) -> bool:\n",
    "        n = len(nums)\n",
    "        rotation_points = 0\n",
    "        for i in range(n):\n",
    "            if nums[i] > nums[(i+1)%n]:\n",
    "                rotation_points +=1\n",
    "            if rotation_points >= 2:\n",
    "                return False\n",
    "        return True\n"
   ]
  }
 ],
 "metadata": {
  "language_info": {
   "name": "python"
  }
 },
 "nbformat": 4,
 "nbformat_minor": 2
}

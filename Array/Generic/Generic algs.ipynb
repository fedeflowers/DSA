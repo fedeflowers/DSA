{
 "cells": [
  {
   "cell_type": "markdown",
   "metadata": {},
   "source": [
    "# Check parity of pairs (Leet 3151)"
   ]
  },
  {
   "cell_type": "code",
   "execution_count": null,
   "metadata": {},
   "outputs": [],
   "source": [
    "class Solution:\n",
    "    def isArraySpecial(self, nums: List[int]) -> bool:\n",
    "        n = len(nums)\n",
    "        for i in range(n):\n",
    "            if 0 <= i-1< n :\n",
    "                if nums[i] % 2 == 0 and nums[i-1] % 2 == 0:\n",
    "                    return False\n",
    "                elif nums[i] % 2 != 0 and nums[i-1] % 2 != 0:\n",
    "                    return False\n",
    "        return True"
   ]
  },
  {
   "cell_type": "markdown",
   "metadata": {},
   "source": [
    "# leet 1752\n",
    "There must be only 1 starting point"
   ]
  },
  {
   "cell_type": "code",
   "execution_count": null,
   "metadata": {},
   "outputs": [],
   "source": [
    "class Solution:\n",
    "    def check(self, nums: List[int]) -> bool:\n",
    "        n = len(nums)\n",
    "        rotation_points = 0\n",
    "        for i in range(n):\n",
    "            if nums[i] > nums[(i+1)%n]:\n",
    "                rotation_points +=1\n",
    "            if rotation_points >= 2:\n",
    "                return False\n",
    "        return True\n"
   ]
  },
  {
   "cell_type": "markdown",
   "metadata": {},
   "source": [
    "# longest monotonic increasing or decreasing array (leet 3105)"
   ]
  },
  {
   "cell_type": "code",
   "execution_count": null,
   "metadata": {},
   "outputs": [],
   "source": [
    "class Solution:\n",
    "    def longestMonotonicSubarray(self, nums: List[int]) -> int:\n",
    "        n = len(nums)\n",
    "        s_i = 0\n",
    "        s_d = 0\n",
    "        i = 0\n",
    "        res = 1\n",
    "        for i in range(1, n):\n",
    "            if nums[i] <= nums[i-1]:\n",
    "                res = max(res, i-s_i)\n",
    "                s_i = i\n",
    "            if nums[i] >= nums[i-1]:\n",
    "                res = max(res, i-s_d)\n",
    "                s_d = i\n",
    "        res = max(res, i-s_i +1)\n",
    "        res = max(res, i-s_d +1)\n",
    "        \n",
    "        return res"
   ]
  },
  {
   "cell_type": "markdown",
   "metadata": {},
   "source": [
    "# Ascending array (Leet 1800)\n",
    "\n",
    "keep incrementing the max value of the ascending array found, if it's not ascending, reset"
   ]
  },
  {
   "cell_type": "code",
   "execution_count": null,
   "metadata": {},
   "outputs": [],
   "source": [
    "class Solution:\n",
    "    def maxAscendingSum(self, nums: List[int]) -> int:\n",
    "        tmp = nums[0]\n",
    "        res = nums[0]\n",
    "        n = len(nums)\n",
    "        for i in range(1, n):\n",
    "            if nums[i-1] < nums[i]:\n",
    "                tmp += nums[i]\n",
    "                res = max(res, tmp)\n",
    "            else:\n",
    "                tmp = nums[i]\n",
    "                \n",
    "        return res\n",
    "        "
   ]
  },
  {
   "cell_type": "markdown",
   "metadata": {},
   "source": [
    "# (leet 1790)\n",
    "in order to do it in O(n) time, you have to save the indices or the different characters in both strings, then you can compare them and return True only if they are equal or swapped"
   ]
  },
  {
   "cell_type": "code",
   "execution_count": null,
   "metadata": {},
   "outputs": [],
   "source": [
    "class Solution:\n",
    "    def areAlmostEqual(self, s1: str, s2: str) -> bool:\n",
    "        n = len(s1)\n",
    "        diff_indices = []\n",
    "        for i in range(n):\n",
    "            if s1[i] != s2[i]:\n",
    "                diff_indices.append(i)\n",
    "\n",
    "        if len(diff_indices) == 0:\n",
    "            return True\n",
    "        elif len(diff_indices) == 2:\n",
    "            if (s1[diff_indices[1]] == s2[diff_indices[0]] \n",
    "                and s1[diff_indices[0]] == s2[diff_indices[1]]):\n",
    "                return True\n",
    "            else:\n",
    "                return False    \n",
    "        else:\n",
    "            return False"
   ]
  },
  {
   "cell_type": "markdown",
   "metadata": {},
   "source": [
    "# 1910\n",
    "\n",
    "in python is really simple"
   ]
  },
  {
   "cell_type": "code",
   "execution_count": null,
   "metadata": {},
   "outputs": [],
   "source": [
    "class Solution:\n",
    "    def removeOccurrences(self, s: str, part: str) -> str:\n",
    "        while s.find(part) != -1:\n",
    "            s = s.replace(part, \"\", 1)\n",
    "        return s"
   ]
  },
  {
   "cell_type": "markdown",
   "metadata": {},
   "source": [
    "# leet 1980\n",
    "convert nums to int to make it easier"
   ]
  },
  {
   "cell_type": "code",
   "execution_count": null,
   "metadata": {},
   "outputs": [],
   "source": [
    "class Solution:\n",
    "    def findDifferentBinaryString(self, nums: List[str]) -> str:\n",
    "        converted = [int(num, 2) for num in nums]\n",
    "\n",
    "        for i in range(2**len(nums)):\n",
    "            if i not in converted:\n",
    "                break\n",
    "        #adapt to output\n",
    "        output = bin(i)[2:]\n",
    "        while len(output) < len(nums):\n",
    "            output = \"0\" + output\n",
    "        return output\n",
    "        "
   ]
  },
  {
   "cell_type": "markdown",
   "metadata": {},
   "source": [
    "# leet 2460"
   ]
  },
  {
   "cell_type": "code",
   "execution_count": null,
   "metadata": {},
   "outputs": [],
   "source": [
    "class Solution:\n",
    "    def applyOperations(self, nums: List[int]) -> List[int]:\n",
    "        n = len(nums)\n",
    "        for i in range(n-1):\n",
    "            if nums[i] == nums[i+1]:\n",
    "                nums[i] *=2\n",
    "                nums[i+1] = 0\n",
    "\n",
    "        count_zero = 0\n",
    "        res = []\n",
    "        for el in nums:\n",
    "            if el != 0:\n",
    "                res.append(el)\n",
    "            else:\n",
    "                count_zero += 1\n",
    "        for i in range(count_zero):\n",
    "            res.append(0)\n",
    "\n",
    "        return res\n",
    "        "
   ]
  }
 ],
 "metadata": {
  "language_info": {
   "name": "python"
  }
 },
 "nbformat": 4,
 "nbformat_minor": 2
}

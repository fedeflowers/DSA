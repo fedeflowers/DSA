{
 "cells": [
  {
   "cell_type": "markdown",
   "metadata": {},
   "source": [
    "# Check parity of pairs (Leet 3151)"
   ]
  },
  {
   "cell_type": "code",
   "execution_count": null,
   "metadata": {},
   "outputs": [],
   "source": [
    "class Solution:\n",
    "    def isArraySpecial(self, nums: List[int]) -> bool:\n",
    "        n = len(nums)\n",
    "        for i in range(n):\n",
    "            if 0 <= i-1< n :\n",
    "                if nums[i] % 2 == 0 and nums[i-1] % 2 == 0:\n",
    "                    return False\n",
    "                elif nums[i] % 2 != 0 and nums[i-1] % 2 != 0:\n",
    "                    return False\n",
    "        return True"
   ]
  },
  {
   "cell_type": "markdown",
   "metadata": {},
   "source": [
    "# leet 1752\n",
    "There must be only 1 starting point"
   ]
  },
  {
   "cell_type": "code",
   "execution_count": null,
   "metadata": {},
   "outputs": [],
   "source": [
    "class Solution:\n",
    "    def check(self, nums: List[int]) -> bool:\n",
    "        n = len(nums)\n",
    "        rotation_points = 0\n",
    "        for i in range(n):\n",
    "            if nums[i] > nums[(i+1)%n]:\n",
    "                rotation_points +=1\n",
    "            if rotation_points >= 2:\n",
    "                return False\n",
    "        return True\n"
   ]
  },
  {
   "cell_type": "markdown",
   "metadata": {},
   "source": [
    "# longest monotonic increasing or decreasing array (leet 3105)"
   ]
  },
  {
   "cell_type": "code",
   "execution_count": null,
   "metadata": {},
   "outputs": [],
   "source": [
    "class Solution:\n",
    "    def longestMonotonicSubarray(self, nums: List[int]) -> int:\n",
    "        n = len(nums)\n",
    "        s_i = 0\n",
    "        s_d = 0\n",
    "        i = 0\n",
    "        res = 1\n",
    "        for i in range(1, n):\n",
    "            if nums[i] <= nums[i-1]:\n",
    "                res = max(res, i-s_i)\n",
    "                s_i = i\n",
    "            if nums[i] >= nums[i-1]:\n",
    "                res = max(res, i-s_d)\n",
    "                s_d = i\n",
    "        res = max(res, i-s_i +1)\n",
    "        res = max(res, i-s_d +1)\n",
    "        \n",
    "        return res"
   ]
  },
  {
   "cell_type": "markdown",
   "metadata": {},
   "source": [
    "# Ascending array (Leet 1800)\n",
    "\n",
    "keep incrementing the max value of the ascending array found, if it's not ascending, reset"
   ]
  },
  {
   "cell_type": "code",
   "execution_count": null,
   "metadata": {},
   "outputs": [],
   "source": [
    "class Solution:\n",
    "    def maxAscendingSum(self, nums: List[int]) -> int:\n",
    "        tmp = nums[0]\n",
    "        res = nums[0]\n",
    "        n = len(nums)\n",
    "        for i in range(1, n):\n",
    "            if nums[i-1] < nums[i]:\n",
    "                tmp += nums[i]\n",
    "                res = max(res, tmp)\n",
    "            else:\n",
    "                tmp = nums[i]\n",
    "                \n",
    "        return res\n",
    "        "
   ]
  },
  {
   "cell_type": "markdown",
   "metadata": {},
   "source": [
    "# (leet 1790)\n",
    "in order to do it in O(n) time, you have to save the indices or the different characters in both strings, then you can compare them and return True only if they are equal or swapped"
   ]
  },
  {
   "cell_type": "code",
   "execution_count": null,
   "metadata": {},
   "outputs": [],
   "source": [
    "class Solution:\n",
    "    def areAlmostEqual(self, s1: str, s2: str) -> bool:\n",
    "        n = len(s1)\n",
    "        diff_indices = []\n",
    "        for i in range(n):\n",
    "            if s1[i] != s2[i]:\n",
    "                diff_indices.append(i)\n",
    "\n",
    "        if len(diff_indices) == 0:\n",
    "            return True\n",
    "        elif len(diff_indices) == 2:\n",
    "            if (s1[diff_indices[1]] == s2[diff_indices[0]] \n",
    "                and s1[diff_indices[0]] == s2[diff_indices[1]]):\n",
    "                return True\n",
    "            else:\n",
    "                return False    \n",
    "        else:\n",
    "            return False"
   ]
  },
  {
   "cell_type": "markdown",
   "metadata": {},
   "source": [
    "# 1910\n",
    "\n",
    "in python is really simple"
   ]
  },
  {
   "cell_type": "code",
   "execution_count": null,
   "metadata": {},
   "outputs": [],
   "source": [
    "class Solution:\n",
    "    def removeOccurrences(self, s: str, part: str) -> str:\n",
    "        while s.find(part) != -1:\n",
    "            s = s.replace(part, \"\", 1)\n",
    "        return s"
   ]
  },
  {
   "cell_type": "markdown",
   "metadata": {},
   "source": [
    "# leet 1980\n",
    "convert nums to int to make it easier"
   ]
  },
  {
   "cell_type": "code",
   "execution_count": null,
   "metadata": {},
   "outputs": [],
   "source": [
    "class Solution:\n",
    "    def findDifferentBinaryString(self, nums: List[str]) -> str:\n",
    "        converted = [int(num, 2) for num in nums]\n",
    "\n",
    "        for i in range(2**len(nums)):\n",
    "            if i not in converted:\n",
    "                break\n",
    "        #adapt to output\n",
    "        output = bin(i)[2:]\n",
    "        while len(output) < len(nums):\n",
    "            output = \"0\" + output\n",
    "        return output\n",
    "        "
   ]
  },
  {
   "cell_type": "markdown",
   "metadata": {},
   "source": [
    "# leet 2460"
   ]
  },
  {
   "cell_type": "code",
   "execution_count": null,
   "metadata": {},
   "outputs": [],
   "source": [
    "class Solution:\n",
    "    def applyOperations(self, nums: List[int]) -> List[int]:\n",
    "        n = len(nums)\n",
    "        for i in range(n-1):\n",
    "            if nums[i] == nums[i+1]:\n",
    "                nums[i] *=2\n",
    "                nums[i+1] = 0\n",
    "\n",
    "        count_zero = 0\n",
    "        res = []\n",
    "        for el in nums:\n",
    "            if el != 0:\n",
    "                res.append(el)\n",
    "            else:\n",
    "                count_zero += 1\n",
    "        for i in range(count_zero):\n",
    "            res.append(0)\n",
    "\n",
    "        return res\n",
    "        "
   ]
  },
  {
   "cell_type": "markdown",
   "metadata": {},
   "source": [
    "# 2161"
   ]
  },
  {
   "cell_type": "code",
   "execution_count": null,
   "metadata": {},
   "outputs": [],
   "source": [
    "class Solution:\n",
    "    def pivotArray(self, nums: List[int], pivot: int) -> List[int]:\n",
    "        left = []\n",
    "        right = []\n",
    "        center = []\n",
    "        for el in nums:\n",
    "            if el < pivot:\n",
    "                left.append(el)\n",
    "            elif el == pivot:\n",
    "                center.append(el)\n",
    "            else:\n",
    "                right.append(el)\n",
    "\n",
    "        return left + center + right"
   ]
  },
  {
   "cell_type": "markdown",
   "metadata": {},
   "source": [
    "# 54. Spiral Matrix\n",
    "\n",
    "cahnge dir on borders of if element is already visited"
   ]
  },
  {
   "cell_type": "code",
   "execution_count": null,
   "metadata": {},
   "outputs": [],
   "source": [
    "class Solution:\n",
    "    def spiralOrder(self, matrix: List[List[int]]) -> List[int]:\n",
    "        m = len(matrix)\n",
    "        n = len(matrix[0])\n",
    "        #(0, 0) : 1 ... (0, 2) : 3 , (1,2): 6 ...\n",
    "        visited = set()\n",
    "        curr_el = [0, -1]\n",
    "        res = []\n",
    "        D = [(0, 1), (1, 0), (0, -1), (-1, 0)] #directions to follow in order\n",
    "        curr_dir = 0\n",
    "        while len(visited) < m*n:\n",
    "            x, y = curr_el\n",
    "            dir_x, dir_y = D[curr_dir]\n",
    "            new_x, new_y = x + dir_x, y + dir_y\n",
    "            if 0 <= new_x < m and 0 <= new_y < n and (new_x, new_y) not in visited:\n",
    "                res.append(matrix[new_x][new_y])\n",
    "                curr_el = [new_x, new_y]\n",
    "                visited.add(tuple(curr_el))\n",
    "            else:\n",
    "                curr_dir = (curr_dir + 1) % len(D)\n",
    "\n",
    "        return res"
   ]
  },
  {
   "cell_type": "markdown",
   "metadata": {},
   "source": [
    "# Merge key lists but with arrays"
   ]
  },
  {
   "cell_type": "code",
   "execution_count": 8,
   "metadata": {},
   "outputs": [
    {
     "name": "stdout",
     "output_type": "stream",
     "text": [
      "[1, 1, 2, 2, 3, 5, 6, 8, 8, 9, 20, 79]\n"
     ]
    }
   ],
   "source": [
    "\n",
    "def sort2Arrays(a, b):\n",
    "    i = j = 0\n",
    "    res = []\n",
    "    while i < len(a) and j < len(b):\n",
    "        if a[i] <= b[j]:\n",
    "            res.append(a[i])\n",
    "            i+=1\n",
    "        else:\n",
    "            res.append(b[j])\n",
    "            j+=1\n",
    "\n",
    "    #append what's left\n",
    "    res += a[i:]\n",
    "    res += b[j:]\n",
    "\n",
    "    return res\n",
    "\n",
    "\n",
    "def mergeKArrays(lists):\n",
    "    if not lists:\n",
    "        return []\n",
    "    if len(lists) == 1:\n",
    "        return lists[0]\n",
    "\n",
    "    mid = len(lists)//2\n",
    "    left = mergeKArrays(lists[:mid])\n",
    "    right = mergeKArrays(lists[mid:])\n",
    "\n",
    "    return sort2Arrays(left, right)\n",
    "\n",
    "\n",
    "lists = [[1,3,6,8], [1,2,5,9], [2, 8, 20, 79]]\n",
    "\n",
    "\n",
    "print(mergeKArrays(lists))\n"
   ]
  },
  {
   "cell_type": "markdown",
   "metadata": {},
   "source": [
    "# Cyclyc sort\n",
    "# leet 41\n",
    "\n",
    "If you have an array of length n where elements are in the range 1 to n, then ideally:\n",
    "\n",
    "1 should be at index 0\n",
    "\n",
    "2 at index 1\n",
    "\n",
    "...\n",
    "\n",
    "n at index n - 1\n",
    "\n",
    "We can place each number at its correct index using swaps."
   ]
  },
  {
   "cell_type": "code",
   "execution_count": 2,
   "metadata": {},
   "outputs": [],
   "source": [
    "def firstMissingPositive(nums):\n",
    "    n = len(nums)\n",
    "    \n",
    "    for i in range(n):\n",
    "        while 1 <= nums[i] <= n and nums[nums[i] - 1] != nums[i]:\n",
    "            # Swap nums[i] to its correct position\n",
    "            correct_idx = nums[i] - 1\n",
    "            nums[i], nums[correct_idx] = nums[correct_idx], nums[i]\n",
    "    \n",
    "    # After rearrangement, check which index has incorrect value\n",
    "    for i in range(n):\n",
    "        if nums[i] != i + 1:\n",
    "            return i + 1\n",
    "    \n",
    "    return n + 1\n"
   ]
  },
  {
   "cell_type": "markdown",
   "metadata": {},
   "source": [
    "# Quick sort"
   ]
  },
  {
   "cell_type": "code",
   "execution_count": null,
   "metadata": {},
   "outputs": [
    {
     "data": {
      "text/plain": [
       "[-5, 1, 2, 4, 4, 12, 12, 23, 32, 56, 75, 82, 123]"
      ]
     },
     "execution_count": 4,
     "metadata": {},
     "output_type": "execute_result"
    }
   ],
   "source": [
    "\n",
    "def quicksort(arr):\n",
    "    import random\n",
    "    if len(arr) <= 1:\n",
    "        return arr\n",
    "\n",
    "    pivot = random.choice(arr)\n",
    "    lows = [x for x in arr if x < pivot]\n",
    "    mids = [x for x in arr if x == pivot]\n",
    "    highs = [x for x in arr if x > pivot]\n",
    "\n",
    "    return quicksort(lows) + mids + quicksort(highs)\n",
    "\n",
    "arr = [ 82, 1 ,23 , 4 , 56, 75, 12 , 32 ,123 , 12 ,4,2, -5]\n",
    "\n",
    "quicksort(arr)"
   ]
  },
  {
   "cell_type": "markdown",
   "metadata": {},
   "source": [
    "# Quick select\n",
    "\n"
   ]
  },
  {
   "cell_type": "code",
   "execution_count": null,
   "metadata": {},
   "outputs": [
    {
     "data": {
      "text/plain": [
       "123"
      ]
     },
     "execution_count": 12,
     "metadata": {},
     "output_type": "execute_result"
    }
   ],
   "source": [
    "def quickselect(arr, k):\n",
    "    import random\n",
    "    if len(arr) <= 1:\n",
    "        return arr[0]\n",
    "\n",
    "    pivot = random.choice(arr)\n",
    "    lows = [x for x in arr if x < pivot]\n",
    "    mids = [x for x in arr if x == pivot]\n",
    "    highs = [x for x in arr if x > pivot]\n",
    "\n",
    "    if k < len(lows):\n",
    "        return quickselect(lows, k)\n",
    "    elif k < len(lows) + len(mids):\n",
    "        return mids[0]\n",
    "    else:\n",
    "        return quickselect(highs, k - len(mids) - len(lows))\n",
    "\n",
    "arr = [ 82, 1 ,23 , 4 , 56, 75, 12 , 32 ,123 , 12 ,4,2, -5]\n",
    "\n",
    "quickselect(arr, len(arr)-1)"
   ]
  },
  {
   "cell_type": "markdown",
   "metadata": {},
   "source": [
    "# Find top k elements"
   ]
  },
  {
   "cell_type": "code",
   "execution_count": 35,
   "metadata": {},
   "outputs": [
    {
     "name": "stdout",
     "output_type": "stream",
     "text": [
      "Example 1 - Top 5: [82, 56, 75, 123, 32]\n",
      "Example 2 - Top 8: [82, 23, 56, 75, 32, 123, 12, 12]\n",
      "Example 3 - Top 15 (more than array length): [82, 1, 23, 4, 56, 75, 12, 32, 123, 12, 4, 2, -5]\n"
     ]
    }
   ],
   "source": [
    "import random\n",
    "\n",
    "def quickselect(arr, k):\n",
    "    \"\"\"\n",
    "    Returns the kth smallest element in the list `arr`\n",
    "    \"\"\"\n",
    "    # Base condition: if the list contains only one element, return it.\n",
    "    if len(arr) == 1:\n",
    "        return arr[0]\n",
    "    \n",
    "    pivot = random.choice(arr)\n",
    "    lows = [x for x in arr if x < pivot]\n",
    "    mids = [x for x in arr if x == pivot]\n",
    "    highs = [x for x in arr if x > pivot]\n",
    "    \n",
    "    # If kth element is in the lows\n",
    "    if k < len(lows):\n",
    "        return quickselect(lows, k)\n",
    "    # If kth element is in the group of elements equal to pivot\n",
    "    elif k < len(lows) + len(mids):\n",
    "        return pivot\n",
    "    # Otherwise, it is in the highs\n",
    "    else:\n",
    "        return quickselect(highs, k - len(lows) - len(mids))\n",
    "\n",
    "\n",
    "def top_k(arr, k):\n",
    "    \"\"\"\n",
    "    Returns a list with exactly the top k largest elements from arr.\n",
    "    If k is greater than the length of arr, it returns all the elements in descending order.\n",
    "    \"\"\"\n",
    "    if not arr or k <= 0:\n",
    "        return []\n",
    "    \n",
    "    if k >= len(arr):\n",
    "        return arr\n",
    "    \n",
    "    # Determine the threshold value so that there are exactly k values greater or equal to it.\n",
    "    # The kth largest element is the same as the (len(arr)-k)th smallest element.\n",
    "    threshold = quickselect(arr, len(arr) - k)\n",
    "    \n",
    "    # Collect all elements strictly greater than the threshold.\n",
    "    res = [x for x in arr if x > threshold]\n",
    "    \n",
    "    # Determine how many of the elements equal to the threshold are needed.\n",
    "    count_threshold = k - len(res)\n",
    "    res += [x for x in arr if x == threshold][:count_threshold]\n",
    "    \n",
    "    return res\n",
    "\n",
    "# Example usage:\n",
    "arr = [82, 1, 23, 4, 56, 75, 12, 32, 123, 12, 4, 2, -5]\n",
    "print(\"Example 1 - Top 5:\", top_k(arr, 5))\n",
    "print(\"Example 2 - Top 8:\", top_k(arr, 8))\n",
    "print(\"Example 3 - Top 15 (more than array length):\", top_k(arr, 15))\n"
   ]
  },
  {
   "cell_type": "markdown",
   "metadata": {},
   "source": [
    "# Leet 838"
   ]
  },
  {
   "cell_type": "code",
   "execution_count": null,
   "metadata": {},
   "outputs": [],
   "source": [
    "class Solution:\n",
    "    def pushDominoes(self, dominoes: str) -> str:\n",
    "        #\".L.R...LR..L..\"\n",
    "        #\"0-101000-1100-100\"\n",
    "        #\"0-10211101110\"\n",
    "\n",
    "        #[0, -10, 0, 10, 0, 0, 0, -10, 10, 0, 0, -10, 0, 0]\n",
    "        #[0, -10, 0, 10, 9, 8, 7, -10, 10, 9, 8, -10, 0, 0] #R to L\n",
    "        #[-9, -10, 0, 10, 9, (8-8 = 0 arrive at same time), -9, -10, 10, 9 (9-8 = 1 so they stay like this), -9, -10, 0, 0] #L to R\n",
    "        #[LL.RR.LLRRLL..]\n",
    "\n",
    "        n = len(dominoes)\n",
    "        modified_d = []\n",
    "        for el in dominoes:\n",
    "            if el == \"L\":\n",
    "                modified_d.append(-n)\n",
    "            elif el == \"R\":\n",
    "                modified_d.append(n)\n",
    "            elif el == '.':\n",
    "                modified_d.append(0)\n",
    "\n",
    "        #from right to left\n",
    "        for i in range(n-1):\n",
    "            el = modified_d[i]\n",
    "            next_el = modified_d[i+1]\n",
    "            if el > 0 and next_el <= 0:\n",
    "                if (el-1) + next_el > 0:\n",
    "                    modified_d[i+1] = el-1\n",
    "\n",
    "        #from left to right\n",
    "        for i in range(n-1, 0, -1):\n",
    "            el = modified_d[i]\n",
    "            next_el = modified_d[i-1]\n",
    "            if el < 0 and next_el >= 0:\n",
    "                if (el+1) + next_el < 0:\n",
    "                    modified_d[i-1] = el+1\n",
    "                elif (el+1) + next_el == 0:\n",
    "                    modified_d[i-1] = 0\n",
    "\n",
    "        #convert\n",
    "        res = \"\"\n",
    "        for el in modified_d:\n",
    "            if el > 0:\n",
    "                res += \"R\"\n",
    "            elif el < 0:\n",
    "                res += \"L\"\n",
    "            else:\n",
    "                res += \".\"\n",
    "\n",
    "        return res\n",
    "\n"
   ]
  }
 ],
 "metadata": {
  "kernelspec": {
   "display_name": "Python 3",
   "language": "python",
   "name": "python3"
  },
  "language_info": {
   "codemirror_mode": {
    "name": "ipython",
    "version": 3
   },
   "file_extension": ".py",
   "mimetype": "text/x-python",
   "name": "python",
   "nbconvert_exporter": "python",
   "pygments_lexer": "ipython3",
   "version": "3.10.5"
  }
 },
 "nbformat": 4,
 "nbformat_minor": 2
}

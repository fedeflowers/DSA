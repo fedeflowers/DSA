{
 "cells": [
  {
   "cell_type": "markdown",
   "metadata": {},
   "source": [
    "# Check parity of pairs (Leet 3151)"
   ]
  },
  {
   "cell_type": "code",
   "execution_count": null,
   "metadata": {},
   "outputs": [],
   "source": [
    "class Solution:\n",
    "    def isArraySpecial(self, nums: List[int]) -> bool:\n",
    "        n = len(nums)\n",
    "        for i in range(n):\n",
    "            if 0 <= i-1< n :\n",
    "                if nums[i] % 2 == 0 and nums[i-1] % 2 == 0:\n",
    "                    return False\n",
    "                elif nums[i] % 2 != 0 and nums[i-1] % 2 != 0:\n",
    "                    return False\n",
    "        return True"
   ]
  },
  {
   "cell_type": "markdown",
   "metadata": {},
   "source": [
    "# leet 1752\n",
    "There must be only 1 starting point"
   ]
  },
  {
   "cell_type": "code",
   "execution_count": null,
   "metadata": {},
   "outputs": [],
   "source": [
    "class Solution:\n",
    "    def check(self, nums: List[int]) -> bool:\n",
    "        n = len(nums)\n",
    "        rotation_points = 0\n",
    "        for i in range(n):\n",
    "            if nums[i] > nums[(i+1)%n]:\n",
    "                rotation_points +=1\n",
    "            if rotation_points >= 2:\n",
    "                return False\n",
    "        return True\n"
   ]
  },
  {
   "cell_type": "markdown",
   "metadata": {},
   "source": [
    "# longest monotonic increasing or decreasing array (leet 3105)"
   ]
  },
  {
   "cell_type": "code",
   "execution_count": null,
   "metadata": {},
   "outputs": [],
   "source": [
    "class Solution:\n",
    "    def longestMonotonicSubarray(self, nums: List[int]) -> int:\n",
    "        n = len(nums)\n",
    "        s_i = 0\n",
    "        s_d = 0\n",
    "        i = 0\n",
    "        res = 1\n",
    "        for i in range(1, n):\n",
    "            if nums[i] <= nums[i-1]:\n",
    "                res = max(res, i-s_i)\n",
    "                s_i = i\n",
    "            if nums[i] >= nums[i-1]:\n",
    "                res = max(res, i-s_d)\n",
    "                s_d = i\n",
    "        res = max(res, i-s_i +1)\n",
    "        res = max(res, i-s_d +1)\n",
    "        \n",
    "        return res"
   ]
  },
  {
   "cell_type": "markdown",
   "metadata": {},
   "source": [
    "# Ascending array (Leet 1800)\n",
    "\n",
    "keep incrementing the max value of the ascending array found, if it's not ascending, reset"
   ]
  },
  {
   "cell_type": "code",
   "execution_count": null,
   "metadata": {},
   "outputs": [],
   "source": [
    "class Solution:\n",
    "    def maxAscendingSum(self, nums: List[int]) -> int:\n",
    "        tmp = nums[0]\n",
    "        res = nums[0]\n",
    "        n = len(nums)\n",
    "        for i in range(1, n):\n",
    "            if nums[i-1] < nums[i]:\n",
    "                tmp += nums[i]\n",
    "                res = max(res, tmp)\n",
    "            else:\n",
    "                tmp = nums[i]\n",
    "                \n",
    "        return res\n",
    "        "
   ]
  },
  {
   "cell_type": "markdown",
   "metadata": {},
   "source": [
    "# (leet 1790)\n",
    "in order to do it in O(n) time, you have to save the indices or the different characters in both strings, then you can compare them and return True only if they are equal or swapped"
   ]
  },
  {
   "cell_type": "code",
   "execution_count": null,
   "metadata": {},
   "outputs": [],
   "source": [
    "class Solution:\n",
    "    def areAlmostEqual(self, s1: str, s2: str) -> bool:\n",
    "        n = len(s1)\n",
    "        diff_indices = []\n",
    "        for i in range(n):\n",
    "            if s1[i] != s2[i]:\n",
    "                diff_indices.append(i)\n",
    "\n",
    "        if len(diff_indices) == 0:\n",
    "            return True\n",
    "        elif len(diff_indices) == 2:\n",
    "            if (s1[diff_indices[1]] == s2[diff_indices[0]] \n",
    "                and s1[diff_indices[0]] == s2[diff_indices[1]]):\n",
    "                return True\n",
    "            else:\n",
    "                return False    \n",
    "        else:\n",
    "            return False"
   ]
  },
  {
   "cell_type": "markdown",
   "metadata": {},
   "source": [
    "# 1910\n",
    "\n",
    "in python is really simple"
   ]
  },
  {
   "cell_type": "code",
   "execution_count": null,
   "metadata": {},
   "outputs": [],
   "source": [
    "class Solution:\n",
    "    def removeOccurrences(self, s: str, part: str) -> str:\n",
    "        while s.find(part) != -1:\n",
    "            s = s.replace(part, \"\", 1)\n",
    "        return s"
   ]
  },
  {
   "cell_type": "markdown",
   "metadata": {},
   "source": [
    "# leet 1980\n",
    "convert nums to int to make it easier"
   ]
  },
  {
   "cell_type": "code",
   "execution_count": null,
   "metadata": {},
   "outputs": [],
   "source": [
    "class Solution:\n",
    "    def findDifferentBinaryString(self, nums: List[str]) -> str:\n",
    "        converted = [int(num, 2) for num in nums]\n",
    "\n",
    "        for i in range(2**len(nums)):\n",
    "            if i not in converted:\n",
    "                break\n",
    "        #adapt to output\n",
    "        output = bin(i)[2:]\n",
    "        while len(output) < len(nums):\n",
    "            output = \"0\" + output\n",
    "        return output\n",
    "        "
   ]
  },
  {
   "cell_type": "markdown",
   "metadata": {},
   "source": [
    "# leet 2460"
   ]
  },
  {
   "cell_type": "code",
   "execution_count": null,
   "metadata": {},
   "outputs": [],
   "source": [
    "class Solution:\n",
    "    def applyOperations(self, nums: List[int]) -> List[int]:\n",
    "        n = len(nums)\n",
    "        for i in range(n-1):\n",
    "            if nums[i] == nums[i+1]:\n",
    "                nums[i] *=2\n",
    "                nums[i+1] = 0\n",
    "\n",
    "        count_zero = 0\n",
    "        res = []\n",
    "        for el in nums:\n",
    "            if el != 0:\n",
    "                res.append(el)\n",
    "            else:\n",
    "                count_zero += 1\n",
    "        for i in range(count_zero):\n",
    "            res.append(0)\n",
    "\n",
    "        return res\n",
    "        "
   ]
  },
  {
   "cell_type": "markdown",
   "metadata": {},
   "source": [
    "# 2161"
   ]
  },
  {
   "cell_type": "code",
   "execution_count": null,
   "metadata": {},
   "outputs": [],
   "source": [
    "class Solution:\n",
    "    def pivotArray(self, nums: List[int], pivot: int) -> List[int]:\n",
    "        left = []\n",
    "        right = []\n",
    "        center = []\n",
    "        for el in nums:\n",
    "            if el < pivot:\n",
    "                left.append(el)\n",
    "            elif el == pivot:\n",
    "                center.append(el)\n",
    "            else:\n",
    "                right.append(el)\n",
    "\n",
    "        return left + center + right"
   ]
  },
  {
   "cell_type": "markdown",
   "metadata": {},
   "source": [
    "# 54. Spiral Matrix\n",
    "\n",
    "cahnge dir on borders of if element is already visited"
   ]
  },
  {
   "cell_type": "code",
   "execution_count": null,
   "metadata": {},
   "outputs": [],
   "source": [
    "class Solution:\n",
    "    def spiralOrder(self, matrix: List[List[int]]) -> List[int]:\n",
    "        m = len(matrix)\n",
    "        n = len(matrix[0])\n",
    "        #(0, 0) : 1 ... (0, 2) : 3 , (1,2): 6 ...\n",
    "        visited = set()\n",
    "        curr_el = [0, -1]\n",
    "        res = []\n",
    "        D = [(0, 1), (1, 0), (0, -1), (-1, 0)] #directions to follow in order\n",
    "        curr_dir = 0\n",
    "        while len(visited) < m*n:\n",
    "            x, y = curr_el\n",
    "            dir_x, dir_y = D[curr_dir]\n",
    "            new_x, new_y = x + dir_x, y + dir_y\n",
    "            print(new_x, new_y)\n",
    "            if 0 <= new_x < m and 0 <= new_y < n and (new_x, new_y) not in visited:\n",
    "                res.append(matrix[new_x][new_y])\n",
    "                curr_el = [new_x, new_y]\n",
    "                visited.add(tuple(curr_el))\n",
    "            else:\n",
    "                curr_dir = (curr_dir + 1) % len(D)\n",
    "\n",
    "        return res"
   ]
  },
  {
   "cell_type": "markdown",
   "metadata": {},
   "source": [
    "# LEET 4"
   ]
  },
  {
   "cell_type": "code",
   "execution_count": null,
   "metadata": {},
   "outputs": [],
   "source": [
    "class Solution:\n",
    "    def findMedianSortedArrays(self, nums1: List[int], nums2: List[int]) -> float:\n",
    "        #2 heaps solution, not the best since arrays are already sorted -> used for online insertion\n",
    "        #use binary serch since array are already sorted\n",
    "        A, B = nums1, nums2\n",
    "        if len(A) > len(B):\n",
    "            A, B = B, A\n",
    "\n",
    "        total = len(A) + len(B)\n",
    "        half = total//2\n",
    "\n",
    "        low, high = 0, len(A)\n",
    "\n",
    "        while True:\n",
    "            i = (low+ high) // 2\n",
    "            j = half - i\n",
    "\n",
    "            leftA = A[i-1] if i > 0 else -float(\"inf\")\n",
    "            rightA = A[i] if i < len(A) else float(\"inf\")\n",
    "            leftB = B[j-1] if j > 0 else -float(\"inf\")\n",
    "            rightB = B[j] if j < len(B) else float(\"inf\")\n",
    "\n",
    "            if leftA <= rightB and leftB <= rightA:\n",
    "                if total % 2 == 0:\n",
    "                    return (max(leftA, leftB) + min(rightA, rightB))/2\n",
    "                else:\n",
    "                    return min(rightA, rightB)\n",
    "\n",
    "            if leftA > rightB:\n",
    "                high = i-1\n",
    "            else:\n",
    "                low = i+1\n",
    "\n",
    "        "
   ]
  },
  {
   "cell_type": "markdown",
   "metadata": {},
   "source": [
    "# QUICKSELECT"
   ]
  },
  {
   "cell_type": "code",
   "execution_count": null,
   "metadata": {},
   "outputs": [],
   "source": [
    "def quickselect(arr, k):\n",
    "    import random\n",
    "    if len(arr) == 1:\n",
    "        return arr[0]\n",
    "\n",
    "    pivot = random.choice(arr)\n",
    "    # Partition the array into three lists: low, high, and pivots\n",
    "    lows = [x for x in arr if x < pivot]\n",
    "    highs = [x for x in arr if x > pivot]\n",
    "    pivots = [x for x in arr if x == pivot]\n",
    "\n",
    "    if k < len(lows):\n",
    "        return quickselect(lows, k)\n",
    "    elif k < len(lows) + len(pivots):\n",
    "        return pivots[0]\n",
    "    else:\n",
    "        return quickselect(highs, k - len(lows) - len(pivots))\n",
    "    \n",
    "\n",
    "def highest_k_elements(arr, k):\n",
    "    if k <= 0 or k > len(arr):\n",
    "        return []\n",
    "\n",
    "    # Find the kth largest element using quickselect\n",
    "    kth_largest = quickselect(arr, len(arr) - k)\n",
    "\n",
    "    # Filter the array to get the k largest elements\n",
    "    result = [x for x in arr if x > kth_largest]\n",
    "\n",
    "    while len(result) < k:\n",
    "        # If there are not enough unique elements, add the kth largest element\n",
    "        result.append(kth_largest)\n",
    "\n",
    "\n",
    "    return result "
   ]
  }
 ],
 "metadata": {
  "language_info": {
   "name": "python"
  }
 },
 "nbformat": 4,
 "nbformat_minor": 2
}

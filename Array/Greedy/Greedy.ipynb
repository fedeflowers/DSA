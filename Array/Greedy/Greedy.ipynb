{
 "cells": [
  {
   "cell_type": "markdown",
   "id": "4b8fe55c",
   "metadata": {},
   "source": [
    "# 2410\n",
    "greedy with 2 pointers"
   ]
  },
  {
   "cell_type": "code",
   "execution_count": null,
   "id": "cb53237e",
   "metadata": {},
   "outputs": [],
   "source": [
    "class Solution:\n",
    "    def matchPlayersAndTrainers(self, players: List[int], trainers: List[int]) -> int:\n",
    "        players.sort()\n",
    "        trainers.sort()\n",
    "        i = j = 0\n",
    "        res = 0\n",
    "        while i < len(players) and j < len(trainers):\n",
    "            if players[i] <= trainers[j]:\n",
    "                res += 1\n",
    "                i+=1\n",
    "            j+=1\n",
    "        return res\n"
   ]
  },
  {
   "cell_type": "markdown",
   "id": "057c5431",
   "metadata": {},
   "source": [
    "# 670"
   ]
  },
  {
   "cell_type": "code",
   "execution_count": null,
   "id": "45401eea",
   "metadata": {},
   "outputs": [],
   "source": [
    "class Solution:\n",
    "    # def maximumSwap(self, num: int) -> int:\n",
    "        #brute force\n",
    "        # str_num = str(num)\n",
    "        # arr_num = list(str_num)\n",
    "\n",
    "        # n = len(arr_num)\n",
    "        # res = num\n",
    "\n",
    "        # for i in range(n):\n",
    "        #     for j in range(i+1, n):\n",
    "        #         arr_num[i], arr_num[j] = arr_num[j], arr_num[i]\n",
    "        #         res = max(res, int(\"\".join(arr_num)))\n",
    "        #         arr_num[i], arr_num[j] = arr_num[j], arr_num[i]\n",
    "\n",
    "        # return res\n",
    "\n",
    "\n",
    "    #O(N) one pass\n",
    "    def maximumSwap(self, num):\n",
    "        arr_num = list(str(num))\n",
    "        n = len(arr_num)\n",
    "\n",
    "        last_idx_num = [None] * 10\n",
    "\n",
    "        for i, el in enumerate(arr_num):\n",
    "            last_idx_num[int(el)] = i #update last idx for el\n",
    "\n",
    "        for i, el in enumerate(arr_num):\n",
    "            # swap if there is a bigger num after the current one (biggest number)\n",
    "            for j in range(9, int(el), -1): # this way starts from 9 and go until el\n",
    "                if last_idx_num[j] and last_idx_num[j] > i:\n",
    "                    #swap\n",
    "                    arr_num[i], arr_num[last_idx_num[j]] = arr_num[last_idx_num[j]], arr_num[i]\n",
    "                    return int(\"\".join(arr_num))\n",
    "\n",
    "        return num\n"
   ]
  }
 ],
 "metadata": {
  "language_info": {
   "name": "python"
  }
 },
 "nbformat": 4,
 "nbformat_minor": 5
}

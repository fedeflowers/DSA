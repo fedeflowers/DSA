{
 "cells": [
  {
   "cell_type": "markdown",
   "id": "4b8fe55c",
   "metadata": {},
   "source": [
    "# 2410\n",
    "greedy with 2 pointers"
   ]
  },
  {
   "cell_type": "code",
   "execution_count": null,
   "id": "cb53237e",
   "metadata": {},
   "outputs": [],
   "source": [
    "class Solution:\n",
    "    def matchPlayersAndTrainers(self, players: List[int], trainers: List[int]) -> int:\n",
    "        players.sort()\n",
    "        trainers.sort()\n",
    "        i = j = 0\n",
    "        res = 0\n",
    "        while i < len(players) and j < len(trainers):\n",
    "            if players[i] <= trainers[j]:\n",
    "                res += 1\n",
    "                i+=1\n",
    "            j+=1\n",
    "        return res\n"
   ]
  }
 ],
 "metadata": {
  "language_info": {
   "name": "python"
  }
 },
 "nbformat": 4,
 "nbformat_minor": 5
}

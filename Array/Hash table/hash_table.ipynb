{
 "cells": [
  {
   "cell_type": "markdown",
   "metadata": {},
   "source": [
    "# Smart use of dictionaries to takle O(1) operations (LEET 2661)\n",
    "\n",
    "You are given a 0-indexed integer array arr, and an m x n integer matrix mat. arr and mat both contain all the integers in the range [1, m * n].\n",
    "Go through each index i in arr starting from index 0 and paint the cell in mat containing the integer arr[i].\n",
    "Return the smallest index i at which either a row or a column will be completely painted in mat.\n",
    "\n",
    "If not useing the nums array i couldnt get back the r, c and if not using sums_rows, and sums_cols i couldnt compute the sum in O(1) time"
   ]
  },
  {
   "cell_type": "code",
   "execution_count": null,
   "metadata": {},
   "outputs": [],
   "source": [
    "class Solution:\n",
    "    def firstCompleteIndex(self, arr: List[int], mat: List[List[int]]) -> int:\n",
    "        m = len(mat)\n",
    "        n = len(mat[0])\n",
    "        #dic from num to row, col\n",
    "        nums = {}\n",
    "        #another dic of row and col sums to determine the first painted?\n",
    "        #{0 ..m)} for rows and {0...n} for cols\n",
    "        sums_rows = defaultdict(int)\n",
    "        sums_cols = defaultdict(int)\n",
    "        for i in range(m):\n",
    "            for j in range(n):\n",
    "                nums[mat[i][j]] = (i,j)\n",
    "                sums_rows[i] += mat[i][j]\n",
    "                sums_cols[j] += mat[i][j]\n",
    "\n",
    "\n",
    "        for i, el in enumerate(arr):\n",
    "            r, c = nums[el]\n",
    "            sums_rows[r] -= el\n",
    "            sums_cols[c] -= el\n",
    "\n",
    "            if sums_rows[r] == 0 or sums_cols[c] == 0:\n",
    "                return i\n"
   ]
  },
  {
   "cell_type": "markdown",
   "metadata": {},
   "source": [
    "# LEET 1267\n",
    "\n",
    "the trick is to sum cols and rows before counting the connected servers since one serve can be counted only once"
   ]
  },
  {
   "cell_type": "code",
   "execution_count": null,
   "metadata": {},
   "outputs": [],
   "source": [
    "class Solution:\n",
    "    def countServers(self, grid: List[List[int]]) -> int:\n",
    "        res = 0\n",
    "        m = len(grid)\n",
    "        n = len(grid[0])\n",
    "\n",
    "        \n",
    "        #sum rows, sum cols\n",
    "        sum_rows = {}\n",
    "        sum_cols = {}\n",
    "\n",
    "        for i in range(m):\n",
    "            sum_rows[i] = sum(grid[i])\n",
    "        for j in range(n):\n",
    "            col = 0\n",
    "            for i in range(m):\n",
    "                col += grid[i][j]\n",
    "            sum_cols[j] = col\n",
    "\n",
    "        for i in range(m):\n",
    "            for j in range(n):\n",
    "                if (sum_rows[i] > 1 or sum_cols[j] > 1 )and grid[i][j]==1:\n",
    "                    res+=1\n",
    "                \n",
    "        return res"
   ]
  }
 ],
 "metadata": {
  "language_info": {
   "name": "python"
  }
 },
 "nbformat": 4,
 "nbformat_minor": 2
}

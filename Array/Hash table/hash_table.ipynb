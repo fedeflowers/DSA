{
 "cells": [
  {
   "cell_type": "markdown",
   "metadata": {},
   "source": [
    "# Smart use of dictionaries to takle O(1) operations (LEET 2661)\n",
    "\n",
    "You are given a 0-indexed integer array arr, and an m x n integer matrix mat. arr and mat both contain all the integers in the range [1, m * n].\n",
    "Go through each index i in arr starting from index 0 and paint the cell in mat containing the integer arr[i].\n",
    "Return the smallest index i at which either a row or a column will be completely painted in mat.\n",
    "\n",
    "If not useing the nums array i couldnt get back the r, c and if not using sums_rows, and sums_cols i couldnt compute the sum in O(1) time"
   ]
  },
  {
   "cell_type": "code",
   "execution_count": null,
   "metadata": {},
   "outputs": [],
   "source": [
    "class Solution:\n",
    "    def firstCompleteIndex(self, arr: List[int], mat: List[List[int]]) -> int:\n",
    "        m = len(mat)\n",
    "        n = len(mat[0])\n",
    "        #dic from num to row, col\n",
    "        nums = {}\n",
    "        #another dic of row and col sums to determine the first painted?\n",
    "        #{0 ..m)} for rows and {0...n} for cols\n",
    "        sums_rows = defaultdict(int)\n",
    "        sums_cols = defaultdict(int)\n",
    "        for i in range(m):\n",
    "            for j in range(n):\n",
    "                nums[mat[i][j]] = (i,j)\n",
    "                sums_rows[i] += mat[i][j]\n",
    "                sums_cols[j] += mat[i][j]\n",
    "\n",
    "\n",
    "        for i, el in enumerate(arr):\n",
    "            r, c = nums[el]\n",
    "            sums_rows[r] -= el\n",
    "            sums_cols[c] -= el\n",
    "\n",
    "            if sums_rows[r] == 0 or sums_cols[c] == 0:\n",
    "                return i\n"
   ]
  },
  {
   "cell_type": "markdown",
   "metadata": {},
   "source": [
    "# LEET 1267\n",
    "\n",
    "the trick is to sum cols and rows before counting the connected servers since one serve can be counted only once"
   ]
  },
  {
   "cell_type": "code",
   "execution_count": null,
   "metadata": {},
   "outputs": [],
   "source": [
    "class Solution:\n",
    "    def countServers(self, grid: List[List[int]]) -> int:\n",
    "        res = 0\n",
    "        m = len(grid)\n",
    "        n = len(grid[0])\n",
    "\n",
    "        \n",
    "        #sum rows, sum cols\n",
    "        sum_rows = {}\n",
    "        sum_cols = {}\n",
    "\n",
    "        for i in range(m):\n",
    "            sum_rows[i] = sum(grid[i])\n",
    "        for j in range(n):\n",
    "            col = 0\n",
    "            for i in range(m):\n",
    "                col += grid[i][j]\n",
    "            sum_cols[j] = col\n",
    "\n",
    "        for i in range(m):\n",
    "            for j in range(n):\n",
    "                if (sum_rows[i] > 1 or sum_cols[j] > 1 )and grid[i][j]==1:\n",
    "                    res+=1\n",
    "                \n",
    "        return res"
   ]
  },
  {
   "cell_type": "markdown",
   "metadata": {},
   "source": [
    "# Count distinct colors (leet 3160)\n",
    "map distinct colors, if the key is already present in viewed querys then subtract old color count and if that count = 0 then subtract tmp, meaning subtruct number of distinct colors\n",
    "if the color count it's == 0 it's a new color (using default dict) or the color was previously put to 0 and then incremented again so it needs to be added to unique colors again.\n",
    "update the viewed items color to understand the what was the old color"
   ]
  },
  {
   "cell_type": "code",
   "execution_count": null,
   "metadata": {},
   "outputs": [],
   "source": [
    "class Solution:\n",
    "    def queryResults(self, limit: int, queries: List[List[int]]) -> List[int]:\n",
    "        colors = defaultdict(int)\n",
    "        done = {}\n",
    "        res = []\n",
    "        tmp = 0\n",
    "        for key, color in queries:\n",
    "            if key in done:\n",
    "                old_color = done[key]\n",
    "                colors[old_color] -= 1\n",
    "                if colors[old_color] <= 0 :\n",
    "                    tmp -= 1\n",
    "            \n",
    "            if colors[color] == 0:#its default dict so if it's 0 it's never encounterd before or again to add to distinct colors\n",
    "                tmp +=1\n",
    "            colors[color] += 1\n",
    "            done[key] = color\n",
    "            \n",
    "            res.append(tmp)\n",
    "        return res"
   ]
  },
  {
   "cell_type": "markdown",
   "metadata": {},
   "source": [
    "# (leet 2364)\n",
    "\n",
    "i - nums[i] != j - nums[j] this means we can count good pairs by counting the pairs with the same num - i element\n",
    "each time you find num[i] - i, add it's frequency to good pairs in order to count good pairs and then subtract by the total number of pairs aka: (n * (n-1) )// 2"
   ]
  },
  {
   "cell_type": "code",
   "execution_count": null,
   "metadata": {},
   "outputs": [],
   "source": [
    "class Solution:\n",
    "    def countBadPairs(self, nums: List[int]) -> int:\n",
    "        freq = defaultdict(int)\n",
    "        n = len(nums)\n",
    "        good_pairs = 0\n",
    "        for i, el in enumerate(nums):\n",
    "            good_pairs += freq[el-i]\n",
    "            freq[el -i] += 1\n",
    "\n",
    "        return (n * (n-1) )// 2 - good_pairs\n"
   ]
  },
  {
   "cell_type": "markdown",
   "metadata": {},
   "source": [
    "# 2342"
   ]
  },
  {
   "cell_type": "code",
   "execution_count": null,
   "metadata": {},
   "outputs": [],
   "source": [
    "class Solution:\n",
    "    def maximumSum(self, nums: List[int]) -> int:\n",
    "        #grouping\n",
    "        groups = defaultdict(lambda: [-1, -1])\n",
    "        for el in nums:\n",
    "            digits_sum = 0\n",
    "            for c in str(el):\n",
    "                digits_sum += int(c)\n",
    "            \n",
    "            max1, max2 = groups[digits_sum]\n",
    "            if el > max1:\n",
    "                groups[digits_sum] = [el, max1]\n",
    "            elif el > max2:\n",
    "                groups[digits_sum][1] = el\n",
    "        res = -1\n",
    "\n",
    "        for g in groups:\n",
    "            max1, max2 = groups[g]\n",
    "            if max2 > -1:\n",
    "                res = max(res, max1+  max2)\n",
    "        return res "
   ]
  },
  {
   "cell_type": "markdown",
   "metadata": {},
   "source": [
    "# leet 873\n",
    "\n",
    "brute force, you can make it also with DP, this is the solution i came up with.\n",
    "For every 2 couple of numbers nums[i], nums[j] try to build the fibo sequence recursively"
   ]
  },
  {
   "cell_type": "code",
   "execution_count": null,
   "metadata": {},
   "outputs": [],
   "source": [
    "class Solution:\n",
    "    def lenLongestFibSubseq(self, nums: List[int]) -> int:\n",
    "        elements = set(nums)\n",
    "        n = len(nums)\n",
    "        res = 0\n",
    "\n",
    "        def fibo(s, e, seq, elements):\n",
    "            seq.append(e)\n",
    "            if s + e not in elements :\n",
    "                if len(seq)<=2:\n",
    "                    return 0\n",
    "                return len(seq)\n",
    "\n",
    "            return fibo(e, s+e, seq, elements)\n",
    "\n",
    "        for i in range(n):\n",
    "            for j in range(i+1, n):\n",
    "                res = max(res, fibo(nums[i], nums[j], [nums[i]], elements))\n",
    "\n",
    "        return res"
   ]
  },
  {
   "cell_type": "markdown",
   "metadata": {},
   "source": [
    "# leet 2965"
   ]
  },
  {
   "cell_type": "code",
   "execution_count": null,
   "metadata": {},
   "outputs": [],
   "source": [
    "class Solution:\n",
    "    def findMissingAndRepeatedValues(self, grid: List[List[int]]) -> List[int]:\n",
    "        n = len(grid)\n",
    "        possibilities = set([i for i in range(1, n*n +1)])\n",
    "        elements = defaultdict(int)\n",
    "        a = 0\n",
    "\n",
    "        for i in range(n):\n",
    "            for j in range(n):\n",
    "                elements[grid[i][j]] += 1\n",
    "                if grid[i][j] in possibilities:\n",
    "                    possibilities.remove(grid[i][j])\n",
    "                if elements[grid[i][j]] >= 2:\n",
    "                    a = grid[i][j]\n",
    "\n",
    "\n",
    "        return [a, next(iter(possibilities))]\n"
   ]
  },
  {
   "cell_type": "markdown",
   "metadata": {},
   "source": [
    "# leet 2206"
   ]
  },
  {
   "cell_type": "code",
   "execution_count": null,
   "metadata": {},
   "outputs": [],
   "source": [
    "class Solution:\n",
    "    def divideArray(self, nums: List[int]) -> bool:\n",
    "        hs_map = {}\n",
    "        for el in nums:\n",
    "            hs_map[el] = hs_map.get(el, 0) + 1\n",
    "\n",
    "        for el in hs_map:\n",
    "            if hs_map[el] % 2 != 0:\n",
    "                return False\n",
    "\n",
    "        return True\n",
    "        "
   ]
  },
  {
   "cell_type": "markdown",
   "metadata": {},
   "source": [
    "# leet 1128"
   ]
  },
  {
   "cell_type": "code",
   "execution_count": null,
   "metadata": {},
   "outputs": [],
   "source": [
    "class Solution:\n",
    "    def numEquivDominoPairs(self, dominoes: List[List[int]]) -> int:\n",
    "        # #brute force\n",
    "        # res = 0\n",
    "\n",
    "        # n = len(dominoes)\n",
    "        # for i in range(n):\n",
    "        #     a, b = dominoes[i][0], dominoes[i][1]\n",
    "        #     for j in range(i+1, n):\n",
    "        #         c, d = dominoes[j][0], dominoes[j][1]\n",
    "        #         if (a == c and b==d )or (a==d and b==c):\n",
    "        #             res += 1\n",
    "\n",
    "        # return res \n",
    "\n",
    "        # optimized\n",
    "        # {(1,2):3, (1,1):1, (2,2):1}\n",
    "        d = {}\n",
    "        res = 0\n",
    "\n",
    "        for domino in dominoes:\n",
    "            domino.sort()\n",
    "            d[tuple(domino)] = d.get(tuple(domino), 0) + 1\n",
    "        for _, val in d.items():\n",
    "            if val > 1:\n",
    "                res += (val*(val-1))//2 \n",
    "\n",
    "        return res\n",
    "\n",
    "\n",
    "        # el 2 : 1 pair\n",
    "        # el 3 : 3 pair\n",
    "        # el 4 : 6 pair\n",
    "        # el 5 : 10 pair\n",
    "        #for each el add n-1\n",
    "\n",
    "        # 1 + 2 + 3 + 4\n",
    "\n",
    "        # 5 = n(n-1)//2\n",
    "        # 5*4//2"
   ]
  },
  {
   "cell_type": "markdown",
   "metadata": {},
   "source": [
    "# Create an hash table aka dict, without resizing"
   ]
  },
  {
   "cell_type": "code",
   "execution_count": 4,
   "metadata": {},
   "outputs": [
    {
     "name": "stdout",
     "output_type": "stream",
     "text": [
      "99\n",
      "89\n"
     ]
    }
   ],
   "source": [
    "#key: [0,0,0,0]\n",
    "#value: [0,0,0,0]\n",
    "#1:10\n",
    "# [0,0,1,0]\n",
    "# [0,0,10,0]\n",
    "\n",
    "class mydict:\n",
    "    def __init__(self, capacity):\n",
    "        self.keys = [None] * capacity\n",
    "        self.values = [None] * capacity\n",
    "        self.capacity = capacity\n",
    "        self.available = capacity\n",
    "\n",
    "    def insert(self, key, value):\n",
    "        hashed_key = hash(key) % self.capacity\n",
    "        original_index = hashed_key\n",
    "        while self.keys[hashed_key] is not None and self.keys[hashed_key] != key:\n",
    "            hashed_key = (hashed_key + 1) % self.capacity\n",
    "            if hashed_key == original_index:\n",
    "                return None  # Table is full\n",
    "        if self.keys[hashed_key] is None:\n",
    "            self.available -= 1\n",
    "        self.keys[hashed_key] = key\n",
    "        self.values[hashed_key] = value\n",
    "\n",
    "\n",
    "    def retrieve(self, key):\n",
    "        hashed_key = hash(key)%self.capacity\n",
    "        while self.keys[hashed_key] and self.keys[hashed_key] != key:\n",
    "            hashed_key += 1\n",
    "            hashed_key %= self.capacity\n",
    "        return self.values[hashed_key]\n",
    "\n",
    "\n",
    "d = mydict(100)\n",
    "\n",
    "d.insert(10, 99)\n",
    "d.insert(12, 88)\n",
    "\n",
    "print(d.retrieve(10))\n",
    "\n",
    "d.insert(10, 89)\n",
    "\n",
    "print(d.retrieve(10))\n",
    "d.retrieve(13)\n",
    "\n",
    "\n",
    "\n",
    "\n",
    "        \n"
   ]
  },
  {
   "cell_type": "code",
   "execution_count": null,
   "metadata": {},
   "outputs": [],
   "source": []
  }
 ],
 "metadata": {
  "kernelspec": {
   "display_name": "Python 3",
   "language": "python",
   "name": "python3"
  },
  "language_info": {
   "codemirror_mode": {
    "name": "ipython",
    "version": 3
   },
   "file_extension": ".py",
   "mimetype": "text/x-python",
   "name": "python",
   "nbconvert_exporter": "python",
   "pygments_lexer": "ipython3",
   "version": "3.10.5"
  }
 },
 "nbformat": 4,
 "nbformat_minor": 2
}

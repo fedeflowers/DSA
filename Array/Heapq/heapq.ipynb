{
 "cells": [
  {
   "cell_type": "markdown",
   "metadata": {},
   "source": [
    "# 3066\n",
    "\n",
    "Sort elements to efficiently get the 2 mins, use heap to sort them each time an element is added"
   ]
  },
  {
   "cell_type": "code",
   "execution_count": null,
   "metadata": {},
   "outputs": [],
   "source": [
    "class Solution:\n",
    "    def minOperations(self, nums: List[int], k: int) -> int:\n",
    "        heapq.heapify(nums)\n",
    "        res = 0\n",
    "        while len(nums) >= 2 and nums[0] < k:\n",
    "            min1 = heapq.heappop(nums)\n",
    "            min2 = heapq.heappop(nums)\n",
    "            heapq.heappush(nums, min(min1, min2) * 2 + max(min1, min2))\n",
    "            res+=1\n",
    "        return res"
   ]
  }
 ],
 "metadata": {
  "language_info": {
   "name": "python"
  }
 },
 "nbformat": 4,
 "nbformat_minor": 2
}

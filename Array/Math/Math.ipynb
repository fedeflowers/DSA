{
 "cells": [
  {
   "cell_type": "markdown",
   "metadata": {},
   "source": [
    "# leet 1780"
   ]
  },
  {
   "cell_type": "code",
   "execution_count": null,
   "metadata": {},
   "outputs": [],
   "source": [
    "class Solution:\n",
    "    def checkPowersOfThree(self, n: int) -> bool:\n",
    "        p = 16\n",
    "        for i in reversed(range(p)):\n",
    "            if n == 0:\n",
    "                return True\n",
    "            if 3 ** i <= n:\n",
    "                n-= 3 ** i\n",
    "            \n",
    "        return n==0\n",
    "        "
   ]
  }
 ],
 "metadata": {
  "language_info": {
   "name": "python"
  }
 },
 "nbformat": 4,
 "nbformat_minor": 2
}

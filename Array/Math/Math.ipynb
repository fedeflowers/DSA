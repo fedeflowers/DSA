{
 "cells": [
  {
   "cell_type": "markdown",
   "metadata": {},
   "source": [
    "# leet 1780"
   ]
  },
  {
   "cell_type": "code",
   "execution_count": null,
   "metadata": {},
   "outputs": [],
   "source": [
    "class Solution:\n",
    "    def checkPowersOfThree(self, n: int) -> bool:\n",
    "        p = 16\n",
    "        for i in reversed(range(p)):\n",
    "            if n == 0:\n",
    "                return True\n",
    "            if 3 ** i <= n:\n",
    "                n-= 3 ** i\n",
    "            \n",
    "        return n==0\n",
    "        "
   ]
  },
  {
   "cell_type": "markdown",
   "metadata": {},
   "source": [
    "# leet 2579\n",
    "\n",
    "recognize that a multiple of 4 is added a precise number of time, which is the sum on n natural numbers (n-1) * n / 4 and then you got the formula"
   ]
  },
  {
   "cell_type": "code",
   "execution_count": null,
   "metadata": {},
   "outputs": [],
   "source": [
    "class Solution:\n",
    "    def coloredCells(self, n: int) -> int:\n",
    "        # res = 1\n",
    "        # for i in range(1,n):\n",
    "        #     res+=4*(i-1) +1\n",
    "        # return res\n",
    "        return 1 + n* (n-1) * 2"
   ]
  }
 ],
 "metadata": {
  "language_info": {
   "name": "python"
  }
 },
 "nbformat": 4,
 "nbformat_minor": 2
}

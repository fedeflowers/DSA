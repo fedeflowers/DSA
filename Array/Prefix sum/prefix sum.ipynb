{
 "cells": [
  {
   "cell_type": "markdown",
   "metadata": {},
   "source": [
    "# DIFFERENCE ARRAY (LEET 2381)\n",
    "\n",
    "Da usare quando si vuole fare un range update, invece che aggiornare ogni elemento da index 2 a 5 ad esempio. Incremento l’elemento all’indice 2 di + tot e tolgo all’indice end +1 – tot quindi se voglio aggiungere 2 a tutti gli elementi tra 2 e 5 devo fare\n",
    "\n",
    "Start = [1, 2, 1, 1, 3, 0, 0]\n",
    "\n",
    "Compute gradient array: array delle somme parziali, cioè prendo solo le differenze tra elementi\n",
    "\n",
    "Arra_diff= [1, 1, -1, 0, 2, -3, 0, 0]   \n",
    "\n",
    "last element is dummy. Il dummy serve se voglio aggiornare un range che ha dentro anche l’ultimo index dell’array\n",
    "\n",
    "Aggiungo il valore a index 2 e tolgo a index 5+1:\n",
    "\n",
    "Arra_diff= [1, 1, 1, 0, 2, -5, 0, 0]\n",
    "\n",
    "Poi per ottenere la somma finale devo fare la somma cumulativa, l’ultimo elemento dell’array sum è dummy\n",
    "\n",
    "Tot_sum = [1, 2, 3, 3, 5, 0,  0, 0]\n",
    "\n",
    "Final_res = [1, 2, 3, 3, 5, 0,  0] #remove last element"
   ]
  },
  {
   "cell_type": "code",
   "execution_count": null,
   "metadata": {},
   "outputs": [],
   "source": [
    "class Solution:\n",
    "    def shiftingLetters(self, s: str, shifts: List[List[int]]) -> str:\n",
    "        #0 sta dov'è, -num vai indietro e +num vai inavanti\n",
    "        arr_diff = [0] * (len(s)+1)\n",
    "        final_shifts = []\n",
    "        for shift in shifts:\n",
    "            if shift[2]:\n",
    "                arr_diff[shift[0]] += 1\n",
    "                arr_diff[shift[1]+1] -= 1\n",
    "            else:\n",
    "                arr_diff[shift[0]] -= 1\n",
    "                arr_diff[shift[1]+1] += 1\n",
    "\n",
    "        shift = 0\n",
    "        for i in range(len(arr_diff)-1):\n",
    "            shift += arr_diff[i]\n",
    "            final_shifts.append(shift)\n",
    "\n",
    "        res = \"\"\n",
    "        for i, el in enumerate(final_shifts):\n",
    "            new_char = chr((ord(s[i]) - ord('a') + el) % 26 + ord('a'))\n",
    "            res += new_char\n",
    "        return res\n"
   ]
  },
  {
   "cell_type": "markdown",
   "metadata": {},
   "source": [
    "# IMMUTABLE QUERY RANGE (LEET 303)\n",
    "\n",
    "non serve la tree structure perchè non abbiamo updates\n",
    "quindi basta utilizzare l'array della prefix sum, cioè somma cumulativa e fare somm:  arr[right] - arr[left-1]"
   ]
  },
  {
   "cell_type": "code",
   "execution_count": null,
   "metadata": {},
   "outputs": [],
   "source": [
    "class NumArray:\n",
    "\n",
    "    def __init__(self, nums: List[int]):\n",
    "        self.sum = [0] * (len(nums)+1)\n",
    "\n",
    "        #somma cumulativa\n",
    "        for i in range(len(nums)):\n",
    "            self.sum[i+1] = self.sum[i] + nums[i]\n",
    "\n",
    "    #ho spostato gli indici perchè ho fatto la sum di len n +1 così risulta + facile fare left-1, quindi left-1 +1 = left e right +1 = right+1\n",
    "    #così posso riferirmi all'array di sum facilmente\n",
    "    def sumRange(self, left: int, right: int) -> int:\n",
    "        return self.sum[right+1] - self.sum[left]\n",
    "\n",
    "\n",
    "# Your NumArray object will be instantiated and called as such:\n",
    "# obj = NumArray(nums)\n",
    "# param_1 = obj.sumRange(left,right)"
   ]
  },
  {
   "cell_type": "markdown",
   "metadata": {},
   "source": [
    "# PREFIX SUM & SUFFIX SUM (LEET 1769)\n",
    "\n",
    "In questo caso farlo senza prefix e suffix sarebbe n^2. Quello che faccio con prexis sum e suffix sum è calcolarsi prima la somma da sx a dx e poi da dx a sx, il risultato finale è dato dalla somma di prefix sum e suffix sum.\n",
    "\n",
    "In questo caso nel leet si poteva ottenere prefix sum e suffix sum tenendosi il numero di biglie incontrate fino a quel punto e aggiornandolo in caso si trovasse una nuova biglia, e lo si aggiungeva al risultato corrente in modo che il numero totale di biglie da muovere venisse aggiornato e quindi anche il numero totale di movimenti."
   ]
  },
  {
   "cell_type": "code",
   "execution_count": null,
   "metadata": {},
   "outputs": [],
   "source": [
    "class Solution:\n",
    "    def minOperations(self, boxes: str) -> List[int]:\n",
    "        n = len(boxes)\n",
    "        #computo da sx a dx e da dx a sx così posso farlo in tempo n,\n",
    "        #ogni volta aggiungo il numero di palle perchè per andare da una posizione ad una adiacente mi basta\n",
    "        #computare il numero di palle e aggiungerle perchè devo spostare ogni volta tot palle per inserle nel box i\n",
    "        l_r = [0] * n\n",
    "        r_l = [0] * n\n",
    "\n",
    "        tot_balls = 0\n",
    "        tot_operations = 0\n",
    "        for i in range(n):\n",
    "            tot_operations += tot_balls\n",
    "            l_r[i] = tot_operations\n",
    "            if boxes[i] == '1':\n",
    "                tot_balls += 1\n",
    "\n",
    "        tot_balls = 0\n",
    "        tot_operations = 0\n",
    "        for i in reversed(range(n)):\n",
    "            tot_operations += tot_balls\n",
    "            r_l[i] = tot_operations\n",
    "            if boxes[i] == '1':\n",
    "                tot_balls += 1\n",
    "\n",
    "        for i in range(n):\n",
    "            l_r[i] += r_l[i]\n",
    "        return l_r"
   ]
  },
  {
   "cell_type": "markdown",
   "metadata": {},
   "source": [
    "# DP + sliding window (leet 2017)\n",
    "My intuition:\n",
    "2nd robot (goes second, so the function is innested) wants to maxize what is left from either top or bottom after the pass of 1st robot, so MAX(TOP, BOTTOM).\n",
    "the first robot (goes first so outer function) want to minimize the result of the second robot so MIN(MAX(TOP, BOTTOM)).\n",
    "So this problem is basically solved, I just need to compute the remaining top and bottom and that's it!\n",
    "So how do i do that TOP: compute the sum of the first row and as you go you decrease values.\n",
    "Remaining of the BOTTOM: as you go you sum what you found on the same col, bcs since you stayed on top, the top row value goes to 0 aka difference. and the value on bottom row remains for the second robot so sum to bottom value. that's it! \n",
    "\n",
    "\n",
    "\n",
    "\n",
    "\n",
    "Solution:\n",
    "Step 1: Sum the Top Row\n",
    "\n",
    "Calculate the total sum of the top row (grid[0]).\n",
    "This represents the score available to the second robot  initially if the first robot doesn’t take any cells from the top row.\n",
    "Why? The top row sum decreases as the first robot progresses.\n",
    "Step 2: Traverse Columns \n",
    "\n",
    "Use a sliding window approach :\n",
    "Deduct the value of the current column from the top row's sum (representing the first robot collecting these cells).\n",
    "Add the value of the current column to the bottom row's cumulative sum (bottom).\n",
    "Calculate the maximum score left for the second robot using max(top, bottom).\n",
    "Track the minimum \"maximum score\" possible using res.\n",
    "Step 3: Minimize the Maximum \n",
    "\n",
    "The goal is to minimize the \"worst-case scenario\" for the second robot, ensuring a balanced outcome."
   ]
  },
  {
   "cell_type": "code",
   "execution_count": null,
   "metadata": {},
   "outputs": [],
   "source": [
    "class Solution:\n",
    "    def gridGame(self, grid):\n",
    "        top = sum(grid[0])\n",
    "        bottom = 0\n",
    "        res = float('inf')\n",
    "        \n",
    "        for i in range(len(grid[0])):\n",
    "            top -= grid[0][i]\n",
    "            res = min(res, max(top, bottom))\n",
    "            bottom += grid[1][i]\n",
    "        \n",
    "        return res"
   ]
  },
  {
   "cell_type": "markdown",
   "metadata": {},
   "source": [
    "# leet 2401\n",
    "\n",
    "bit manipulation + sliding window with mask"
   ]
  },
  {
   "cell_type": "code",
   "execution_count": null,
   "metadata": {},
   "outputs": [],
   "source": [
    "class Solution:\n",
    "    def longestNiceSubarray(self, nums: List[int]) -> int:\n",
    "        s = 0\n",
    "        curr_mask = 0\n",
    "        max_len = 0\n",
    "        \n",
    "        for e in range(len(nums)):\n",
    "            while (curr_mask & nums[e]) != 0:\n",
    "                # Remove nums[s] from the bitmask and move the left pointer\n",
    "                curr_mask ^= nums[s]\n",
    "                s += 1\n",
    "\n",
    "            # Add nums[e] to the bitmask\n",
    "            curr_mask |= nums[e]\n",
    "\n",
    "            # Update max length\n",
    "            max_len = max(max_len, e - s + 1)\n",
    "        \n",
    "        return max_len"
   ]
  }
 ],
 "metadata": {
  "language_info": {
   "name": "python"
  }
 },
 "nbformat": 4,
 "nbformat_minor": 2
}

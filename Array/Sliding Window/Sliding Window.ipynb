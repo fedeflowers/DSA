{
 "cells": [
  {
   "cell_type": "markdown",
   "metadata": {},
   "source": [
    "# leet 2379"
   ]
  },
  {
   "cell_type": "code",
   "execution_count": null,
   "metadata": {},
   "outputs": [],
   "source": [
    "class Solution:\n",
    "    def minimumRecolors(self, blocks: str, k: int) -> int:\n",
    "        #sliding window, take k elements and keep the one with the lowest whites, n* of whites = result\n",
    "\n",
    "        whites = sum(1 for i in range(k) if blocks[i] == 'W') \n",
    "        min_whites = whites\n",
    "        \n",
    "        for i in range(k, len(blocks)):\n",
    "            if blocks[i - k] == 'W': \n",
    "                whites -= 1\n",
    "            if blocks[i] == 'W': \n",
    "                whites += 1\n",
    "            min_whites = min(min_whites, whites)\n",
    "        \n",
    "        return min_whites\n"
   ]
  }
 ],
 "metadata": {
  "language_info": {
   "name": "python"
  }
 },
 "nbformat": 4,
 "nbformat_minor": 2
}

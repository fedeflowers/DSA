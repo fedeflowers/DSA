{
 "cells": [
  {
   "cell_type": "markdown",
   "metadata": {},
   "source": [
    "# leet 2379"
   ]
  },
  {
   "cell_type": "code",
   "execution_count": null,
   "metadata": {},
   "outputs": [],
   "source": [
    "class Solution:\n",
    "    def minimumRecolors(self, blocks: str, k: int) -> int:\n",
    "        #sliding window, take k elements and keep the one with the lowest whites, n* of whites = result\n",
    "\n",
    "        whites = sum(1 for i in range(k) if blocks[i] == 'W') \n",
    "        min_whites = whites\n",
    "        \n",
    "        for i in range(k, len(blocks)):\n",
    "            if blocks[i - k] == 'W': \n",
    "                whites -= 1\n",
    "            if blocks[i] == 'W': \n",
    "                whites += 1\n",
    "            min_whites = min(min_whites, whites)\n",
    "        \n",
    "        return min_whites\n"
   ]
  },
  {
   "cell_type": "code",
   "execution_count": null,
   "metadata": {},
   "outputs": [],
   "source": [
    "#Bad written:\n",
    "class Solution:\n",
    "    def minimumRecolors(self, blocks: str, k: int) -> int:\n",
    "        #sliding window, take k elements and keep the one with the lowest whites, n* of whites = result\n",
    "        start = end = res = whites = 0\n",
    "        #starting window\n",
    "        if blocks[start] == 'W': whites +=1\n",
    "        while end < k-1:\n",
    "            end+=1\n",
    "            if blocks[end] == 'W':\n",
    "                whites += 1\n",
    "        res = whites\n",
    "        \n",
    "        while end < len(blocks):\n",
    "            res = min(res, whites)\n",
    "            if blocks[start] == 'W':\n",
    "                whites -= 1\n",
    "            start += 1\n",
    "            end += 1\n",
    "            if end < len(blocks) and blocks[end] == 'W':\n",
    "                whites+= 1\n",
    "        return res"
   ]
  },
  {
   "cell_type": "markdown",
   "metadata": {},
   "source": [
    "# leet 3206"
   ]
  },
  {
   "cell_type": "code",
   "execution_count": null,
   "metadata": {},
   "outputs": [],
   "source": [
    "class Solution:\n",
    "    def numberOfAlternatingGroups(self, colors: List[int], k: int) -> int:\n",
    "        #extend array\n",
    "        for i in range(k-1):\n",
    "            colors.append(colors[i])\n",
    "        n = len(colors)\n",
    "        start = 0\n",
    "        res = 0\n",
    "        end = 1\n",
    "        while end < n:\n",
    "            if colors[end-1] == colors[end]: #not alternating\n",
    "                start = end #reset window\n",
    "            \n",
    "            if end - start +1 == k:\n",
    "                res+= 1\n",
    "                start += 1\n",
    "            end += 1\n",
    "\n",
    "        return res\n"
   ]
  }
 ],
 "metadata": {
  "language_info": {
   "name": "python"
  }
 },
 "nbformat": 4,
 "nbformat_minor": 2
}

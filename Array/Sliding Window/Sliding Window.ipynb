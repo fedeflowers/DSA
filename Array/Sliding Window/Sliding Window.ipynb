{
 "cells": [
  {
   "cell_type": "markdown",
   "metadata": {},
   "source": [
    "# leet 2379"
   ]
  },
  {
   "cell_type": "code",
   "execution_count": null,
   "metadata": {},
   "outputs": [],
   "source": [
    "class Solution:\n",
    "    def minimumRecolors(self, blocks: str, k: int) -> int:\n",
    "        #sliding window, take k elements and keep the one with the lowest whites, n* of whites = result\n",
    "\n",
    "        whites = sum(1 for i in range(k) if blocks[i] == 'W') \n",
    "        min_whites = whites\n",
    "        \n",
    "        for i in range(k, len(blocks)):\n",
    "            if blocks[i - k] == 'W': \n",
    "                whites -= 1\n",
    "            if blocks[i] == 'W': \n",
    "                whites += 1\n",
    "            min_whites = min(min_whites, whites)\n",
    "        \n",
    "        return min_whites\n"
   ]
  },
  {
   "cell_type": "code",
   "execution_count": null,
   "metadata": {},
   "outputs": [],
   "source": [
    "#Bad written:\n",
    "class Solution:\n",
    "    def minimumRecolors(self, blocks: str, k: int) -> int:\n",
    "        #sliding window, take k elements and keep the one with the lowest whites, n* of whites = result\n",
    "        start = end = res = whites = 0\n",
    "        #starting window\n",
    "        if blocks[start] == 'W': whites +=1\n",
    "        while end < k-1:\n",
    "            end+=1\n",
    "            if blocks[end] == 'W':\n",
    "                whites += 1\n",
    "        res = whites\n",
    "        \n",
    "        while end < len(blocks):\n",
    "            res = min(res, whites)\n",
    "            if blocks[start] == 'W':\n",
    "                whites -= 1\n",
    "            start += 1\n",
    "            end += 1\n",
    "            if end < len(blocks) and blocks[end] == 'W':\n",
    "                whites+= 1\n",
    "        return res"
   ]
  },
  {
   "cell_type": "markdown",
   "metadata": {},
   "source": [
    "# leet 3206"
   ]
  },
  {
   "cell_type": "code",
   "execution_count": null,
   "metadata": {},
   "outputs": [],
   "source": [
    "class Solution:\n",
    "    def numberOfAlternatingGroups(self, colors: List[int], k: int) -> int:\n",
    "        # Extend the array to handle circular sequences\n",
    "        for i in range(k - 1):\n",
    "            colors.append(colors[i])\n",
    "\n",
    "        left = 0\n",
    "        right = 1\n",
    "        res = 0\n",
    "        n= len(colors)\n",
    "\n",
    "        while right < n:  \n",
    "            if colors[right] == colors[right -1]: #interrupt window, no alternation of tiles\n",
    "                left = right\n",
    "\n",
    "            right+= 1 # increase right\n",
    "\n",
    "            if right - left <k: #window not big enougth, put continue so taht if the window is creating it continue to next loop\n",
    "                continue\n",
    "\n",
    "            left+=1 #increase left means that the window is right size and didnt reset so all elements are alternating\n",
    "            res += 1 #increase res bcs all elements are alternating\n",
    "\n",
    "        return res\n",
    "\n",
    "        "
   ]
  }
 ],
 "metadata": {
  "language_info": {
   "name": "python"
  }
 },
 "nbformat": 4,
 "nbformat_minor": 2
}

{
 "cells": [
  {
   "cell_type": "markdown",
   "metadata": {},
   "source": [
    "# DSU (leet 2948)\n",
    "\n",
    "Disjoint set union.\n",
    "\n",
    "https://en.wikipedia.org/wiki/Disjoint-set_data_structure\n",
    "\n",
    "first form groups based on the fact that they are swappable or not and then re-create the result by unite them.\n",
    "\n",
    "1. sort to create groups\n",
    "2. map elements to groups\n",
    "3. retrieve elements with respect to tehir group and pop first element to ahve final order\n",
    "\n",
    "time complexity = O(nlog(n))"
   ]
  },
  {
   "cell_type": "code",
   "execution_count": null,
   "metadata": {},
   "outputs": [],
   "source": [
    "class Solution:\n",
    "    def lexicographicallySmallestArray(self, nums: List[int], limit: int) -> List[int]:\n",
    "        n = len(nums)\n",
    "        groups = [] #list of queues so then i can pop the first element\n",
    "        map_group = {} # num -> group\n",
    "\n",
    "        #sort nums and create groups:\n",
    "        sorted_nums = sorted(nums)\n",
    "        curr_group = deque([sorted_nums[0]])\n",
    "        i_group = 0\n",
    "        map_group[sorted_nums[0]] = i_group\n",
    "        for i in range(1, n):\n",
    "            if abs(sorted_nums[i] - sorted_nums[i-1]) > limit:\n",
    "                groups.append(curr_group)\n",
    "                i_group += 1\n",
    "                #new group\n",
    "                curr_group = deque([sorted_nums[i]])\n",
    "            else:\n",
    "                curr_group.append(sorted_nums[i])    \n",
    "            map_group[sorted_nums[i]] = i_group\n",
    "\n",
    "        #append remaining elements\n",
    "        groups.append(curr_group)\n",
    "        for el in curr_group:\n",
    "            map_group[el] = i_group\n",
    "\n",
    "        #UNION GROUPS\n",
    "        #for each group pop the first one\n",
    "        #retrieve group and then pop element\n",
    "        res = []\n",
    "        for el in nums:\n",
    "            res.append(groups[map_group[el]].popleft())\n",
    "        return res\n",
    "        "
   ]
  }
 ],
 "metadata": {
  "language_info": {
   "name": "python"
  }
 },
 "nbformat": 4,
 "nbformat_minor": 2
}

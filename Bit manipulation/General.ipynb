{
 "cells": [
  {
   "cell_type": "markdown",
   "id": "c1f1c9fa",
   "metadata": {},
   "source": [
    "# leet 338\n",
    "count bits in O(n)"
   ]
  },
  {
   "cell_type": "code",
   "execution_count": null,
   "id": "6bbd6893",
   "metadata": {},
   "outputs": [],
   "source": [
    "class Solution:\n",
    "    def countBits(self, n: int) -> List[int]:\n",
    "        dp = [0] * (n+1)\n",
    "        for i in range(1, n+1):\n",
    "            dp[i] = dp[i>>1] + (i & 1)\n",
    "\n",
    "        return dp"
   ]
  },
  {
   "cell_type": "code",
   "execution_count": 16,
   "id": "9c45e1d1",
   "metadata": {},
   "outputs": [
    {
     "name": "stdout",
     "output_type": "stream",
     "text": [
      "3\n"
     ]
    },
    {
     "data": {
      "text/plain": [
       "True"
      ]
     },
     "execution_count": 16,
     "metadata": {},
     "output_type": "execute_result"
    }
   ],
   "source": [
    "leftchild = [-1, -1, 0, 1]\n",
    "rightchild = [-1, -1, -1, 2]\n",
    "# leftchild = [1, -1, 3, -1]\n",
    "# rightchild = [2, 3, -1, -1]\n",
    "\n",
    "from collections import deque\n",
    "\n",
    "#se ognuno può essere root allora li provo tutti\n",
    "def isbinaryTree(left, right, n, root):\n",
    "    visited = set([root])\n",
    "    q = deque()\n",
    "    q.append(root)\n",
    "    while q:\n",
    "        i = q.popleft()\n",
    "        if leftchild[i] in visited: return False\n",
    "        if rightchild[i] in visited: return False\n",
    "        if leftchild[i] != -1:\n",
    "            q.append(leftchild[i])\n",
    "            visited.add(leftchild[i])\n",
    "        if rightchild[i] != -1:\n",
    "            q.append(rightchild[i])\n",
    "            visited.add(rightchild[i])\n",
    "\n",
    "    return len(visited) == n\n",
    "\n",
    "def solution(left, right, n):\n",
    "    for i in range(n):\n",
    "        if isbinaryTree(left, right, n, i):\n",
    "            print(i)\n",
    "            return True\n",
    "    return False\n",
    "\n",
    "\n",
    "solution(leftchild, rightchild, 4)"
   ]
  },
  {
   "cell_type": "code",
   "execution_count": null,
   "id": "e3ed453c",
   "metadata": {},
   "outputs": [],
   "source": []
  }
 ],
 "metadata": {
  "kernelspec": {
   "display_name": "Python 3",
   "language": "python",
   "name": "python3"
  },
  "language_info": {
   "codemirror_mode": {
    "name": "ipython",
    "version": 3
   },
   "file_extension": ".py",
   "mimetype": "text/x-python",
   "name": "python",
   "nbconvert_exporter": "python",
   "pygments_lexer": "ipython3",
   "version": "3.10.5"
  }
 },
 "nbformat": 4,
 "nbformat_minor": 5
}

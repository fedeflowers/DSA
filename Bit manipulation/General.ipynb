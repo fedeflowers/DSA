{
 "cells": [
  {
   "cell_type": "markdown",
   "id": "c1f1c9fa",
   "metadata": {},
   "source": [
    "# leet 338\n",
    "count bits in O(n)"
   ]
  },
  {
   "cell_type": "code",
   "execution_count": null,
   "id": "6bbd6893",
   "metadata": {},
   "outputs": [],
   "source": [
    "class Solution:\n",
    "    def countBits(self, n: int) -> List[int]:\n",
    "        dp = [0] * (n+1)\n",
    "        for i in range(1, n+1):\n",
    "            dp[i] = dp[i>>1] + (i & 1)\n",
    "\n",
    "        return dp"
   ]
  }
 ],
 "metadata": {
  "language_info": {
   "name": "python"
  }
 },
 "nbformat": 4,
 "nbformat_minor": 5
}

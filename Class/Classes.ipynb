{
 "cells": [
  {
   "cell_type": "markdown",
   "metadata": {},
   "source": [
    "# (leet 2349)\n",
    "\n",
    "(not best solution)\n",
    "use heapq for num_to_min to get best solution"
   ]
  },
  {
   "cell_type": "code",
   "execution_count": null,
   "metadata": {},
   "outputs": [],
   "source": [
    "class NumberContainers:\n",
    "\n",
    "    def __init__(self):\n",
    "        self.index_to_num = defaultdict(int)\n",
    "        self.num_to_min = defaultdict(list)\n",
    "\n",
    "    def change(self, index: int, number: int) -> None:\n",
    "        old_num = self.index_to_num[index]\n",
    "        self.index_to_num[index] = number\n",
    "        try:\n",
    "            self.num_to_min[old_num].remove(index)\n",
    "        except:\n",
    "            pass\n",
    "        #add in sorted arr\n",
    "        bisect.insort(self.num_to_min[number], index)\n",
    "\n",
    "    def find(self, number: int) -> int:\n",
    "        if number in self.num_to_min and len(self.num_to_min[number]) >= 1:\n",
    "            return self.num_to_min[number][0]\n",
    "        return -1\n",
    "\n",
    "\n",
    "# Your NumberContainers object will be instantiated and called as such:\n",
    "# obj = NumberContainers()\n",
    "# obj.change(index,number)\n",
    "# param_2 = obj.find(number)"
   ]
  },
  {
   "cell_type": "markdown",
   "metadata": {},
   "source": [
    "# leet 1352\n",
    "\n",
    "remember that you can get a product of last k elements as: all_product // all_product k steps before, e.g for taking the last element you just compute the division of the whole product and the product at the step before:\n",
    "[1,2,3]\n",
    "take last elemnt product:\n",
    "prod arr: [1, 2, 6]\n",
    "last el:\n",
    "6//2 = 3 a.k.a product[size] // produzione[size-k], where k = 1"
   ]
  },
  {
   "cell_type": "code",
   "execution_count": null,
   "metadata": {},
   "outputs": [],
   "source": [
    "class ProductOfNumbers:\n",
    "\n",
    "    def __init__(self):\n",
    "        self.stream = [1]\n",
    "        self.size = 0\n",
    "\n",
    "    def add(self, num: int) -> None:\n",
    "        if num == 0:\n",
    "            self.size = 0\n",
    "            self.stream = [1]\n",
    "        else:\n",
    "            self.stream.append(self.stream[self.size]*num)\n",
    "            self.size += 1\n",
    "        # print(self.stream)\n",
    "        \n",
    "\n",
    "    def getProduct(self, k: int) -> int:\n",
    "        if k > self.size:\n",
    "            return 0\n",
    "        return self.stream[self.size] // self.stream[self.size - k ]\n",
    "        \n",
    "\n",
    "\n",
    "# Your ProductOfNumbers object will be instantiated and called as such:\n",
    "# obj = ProductOfNumbers()\n",
    "# obj.add(num)\n",
    "# param_2 = obj.getProduct(k)"
   ]
  }
 ],
 "metadata": {
  "language_info": {
   "name": "python"
  }
 },
 "nbformat": 4,
 "nbformat_minor": 2
}

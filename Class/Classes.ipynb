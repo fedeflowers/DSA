{
 "cells": [
  {
   "cell_type": "markdown",
   "metadata": {},
   "source": [
    "# (leet 2349)\n",
    "\n",
    "(not best solution)\n",
    "use heapq for num_to_min to get best solution"
   ]
  },
  {
   "cell_type": "code",
   "execution_count": null,
   "metadata": {},
   "outputs": [],
   "source": [
    "class NumberContainers:\n",
    "\n",
    "    def __init__(self):\n",
    "        self.index_to_num = defaultdict(int)\n",
    "        self.num_to_min = defaultdict(list)\n",
    "\n",
    "    def change(self, index: int, number: int) -> None:\n",
    "        old_num = self.index_to_num[index]\n",
    "        self.index_to_num[index] = number\n",
    "        try:\n",
    "            self.num_to_min[old_num].remove(index)\n",
    "        except:\n",
    "            pass\n",
    "        #add in sorted arr\n",
    "        bisect.insort(self.num_to_min[number], index)\n",
    "\n",
    "    def find(self, number: int) -> int:\n",
    "        if number in self.num_to_min and len(self.num_to_min[number]) >= 1:\n",
    "            return self.num_to_min[number][0]\n",
    "        return -1\n",
    "\n",
    "\n",
    "# Your NumberContainers object will be instantiated and called as such:\n",
    "# obj = NumberContainers()\n",
    "# obj.change(index,number)\n",
    "# param_2 = obj.find(number)"
   ]
  }
 ],
 "metadata": {
  "language_info": {
   "name": "python"
  }
 },
 "nbformat": 4,
 "nbformat_minor": 2
}

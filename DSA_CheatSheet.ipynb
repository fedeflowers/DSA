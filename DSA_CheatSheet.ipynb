{
  "cells": [
    {
      "cell_type": "markdown",
      "metadata": {
        "id": "J6eqWJxKxi12"
      },
      "source": [
        "The idea is to put only important algorithms to Review"
      ]
    },
    {
      "cell_type": "markdown",
      "metadata": {
        "id": "KULkr3nvQZHB"
      },
      "source": [
        "# DIFFERENCE ARRAY (LEET 2381)\n",
        "\n",
        "Da usare quando si vuole fare un range update, invece che aggiornare ogni elemento da index 2 a 5 ad esempio. Incremento l’elemento all’indice 2 di + tot e tolgo all’indice end +1 – tot quindi se voglio aggiungere 2 a tutti gli elementi tra 2 e 5 devo fare\n",
        "\n",
        "Start = [1, 2, 1, 1, 3, 0, 0]\n",
        "\n",
        "Compute gradient array: array delle somme parziali, cioè prendo solo le differenze tra elementi\n",
        "\n",
        "Arra_diff= [1, 1, -1, 0, 2, -3, 0, 0]   \n",
        "\n",
        "last element is dummy. Il dummy serve se voglio aggiornare un range che ha dentro anche l’ultimo index dell’array\n",
        "\n",
        "Aggiungo il valore a index 2 e tolgo a index 5+1:\n",
        "\n",
        "Arra_diff= [1, 1, 1, 0, 2, -5, 0, 0]\n",
        "\n",
        "Poi per ottenere la somma finale devo fare la somma cumulativa, l’ultimo elemento dell’array sum è dummy\n",
        "\n",
        "Tot_sum = [1, 2, 3, 3, 5, 0,  0, 0]\n",
        "\n",
        "Final_res = [1, 2, 3, 3, 5, 0,  0] #remove last element"
      ]
    },
    {
      "cell_type": "code",
      "execution_count": null,
      "metadata": {
        "id": "IUa_8gNQQTBt"
      },
      "outputs": [],
      "source": [
        "class Solution:\n",
        "    def shiftingLetters(self, s: str, shifts: List[List[int]]) -> str:\n",
        "        #0 sta dov'è, -num vai indietro e +num vai inavanti\n",
        "        arr_diff = [0] * (len(s)+1)\n",
        "        final_shifts = []\n",
        "        for shift in shifts:\n",
        "            if shift[2]:\n",
        "                arr_diff[shift[0]] += 1\n",
        "                arr_diff[shift[1]+1] -= 1\n",
        "            else:\n",
        "                arr_diff[shift[0]] -= 1\n",
        "                arr_diff[shift[1]+1] += 1\n",
        "\n",
        "        shift = 0\n",
        "        for i in range(len(arr_diff)-1):\n",
        "            shift += arr_diff[i]\n",
        "            final_shifts.append(shift)\n",
        "\n",
        "        res = \"\"\n",
        "        for i, el in enumerate(final_shifts):\n",
        "            new_char = chr((ord(s[i]) - ord('a') + el) % 26 + ord('a'))\n",
        "            res += new_char\n",
        "        return res\n"
      ]
    },
    {
      "cell_type": "markdown",
      "metadata": {
        "id": "ouDTP1I5QojI"
      },
      "source": [
        " # BIT (LEET 307) MUTABLE QUERY RANGE\n",
        " It is possible to use also segment tree tree\n",
        "\n",
        "https://www.youtube.com/watch?v=uSFzHCZ4E-8 (BIT explanation)\n",
        "\n",
        " https://cp-algorithms.com/data_structures/fenwick.html   (binary)\n",
        "\n",
        " https://cp-algorithms.com/data_structures/segment_tree.html  (segment)\n",
        "\n",
        " We need tree structure because there is an updated otherwise a sum array would be suffienct e.g.:\n",
        " start = [ 5, 2, 9, -3, 5]\n",
        "\n",
        " summ array = [5, 7, 16, 13, 18]\n",
        "\n",
        " sum from index 1 to 3: summ_array[3] - sum_array[0] = 13-5 = 8\n",
        "\n",
        " So basically to get the sum from i to j, you need to take arr[j] - arr[i-1]\n",
        " but it doesnt work with updates (update in O(N) time) so we need to use a tree structure.\n",
        "\n",
        "-------------------------------------------------------------------\n",
        "BIT\n",
        "\n",
        " The magic of index & -index lies in efficiently isolating and leveraging the lowest set bit:\n",
        "\n",
        "Addition (+=): Move to the next index that overlaps the current range.\n",
        "Subtraction (-=): Move to the parent index, narrowing the range.\n",
        "\n",
        "use addition for updates and subtraction for summing, to get the parent node\n",
        "\n",
        "Intuition Behind the Difference\n",
        "Updates (+= index & -index): Propagate changes forward to larger indices that depend on the current index.\n",
        "Queries (-= index & -index): Aggregate contributions backward from smaller indices that form the prefix sum.\n",
        "\n",
        "\n",
        "\n",
        "\n",
        "\n"
      ]
    },
    {
      "cell_type": "code",
      "execution_count": null,
      "metadata": {
        "id": "1mz92J5Gyxif"
      },
      "outputs": [],
      "source": [
        "class BIT:\n",
        "      \"\"\"\n",
        "    Implementation of Binary Indexed Tree/Fenwick Tree\n",
        "\n",
        "    Memory:\n",
        "        creation - O(n)\n",
        "        update   - O(1)\n",
        "        get_sum  - O(1)\n",
        "\n",
        "    Time:\n",
        "        creation - O(n*log(n))\n",
        "        update   - O(log(n))\n",
        "        get_sum  - O(log(n))\n",
        "    \"\"\"\n",
        "    def __init__(self, nums: List[int]):\n",
        "        self.size = len(nums)\n",
        "        self.bit = [0] * (self.size +1)\n",
        "        for i in range(self.size):\n",
        "            self.update(i+1, nums[i])\n",
        "\n",
        "    def update(self, index: int, delta: int) -> None:\n",
        "        while index <= self.size:\n",
        "            self.bit[index] += delta\n",
        "            index += index & -index #set LSB\n",
        "\n",
        "    def query(self, index) -> int:\n",
        "        res = 0\n",
        "        while index > 0:\n",
        "            res += self.bit[index]\n",
        "            index -= index & -index\n",
        "        return res\n",
        "\n",
        "class NumArray:\n",
        "    \"\"\"\n",
        "    Time:   O(N∗Log(N))\n",
        "    Memory: O(n)\n",
        "    \"\"\"\n",
        "    def __init__(self, nums: List[int]):\n",
        "        self.nums = nums\n",
        "        self.bit = BIT(nums)\n",
        "\n",
        "    def update(self, index: int, val: int) -> None:\n",
        "        self.bit.update(index + 1, val - self.nums[index])\n",
        "        self.nums[index] = val\n",
        "\n",
        "    def sumRange(self, left: int, right: int) -> int:\n",
        "        return self.bit.query(right+1) - self.bit.query(left)\n",
        "\n",
        "\n",
        "# Your NumArray object will be instantiated and called as such:\n",
        "# obj = NumArray(nums)\n",
        "# obj.update(index,val)\n",
        "# param_2 = obj.sumRange(left,right)"
      ]
    },
    {
      "cell_type": "markdown",
      "metadata": {
        "id": "DC10HrF-SSRi"
      },
      "source": [
        "# IMMUTABLE QUERY RANGE (LEET 303)\n",
        "\n",
        "non serve la tree structure perchè non abbiamo updates\n",
        "quindi basta utilizzare l'array della prefix sum, cioè somma cumulativa e fare somm:  arr[right] - arr[left-1]"
      ]
    },
    {
      "cell_type": "code",
      "execution_count": null,
      "metadata": {
        "id": "at2_yWo5SRf_"
      },
      "outputs": [],
      "source": [
        "class NumArray:\n",
        "\n",
        "    def __init__(self, nums: List[int]):\n",
        "        self.sum = [0] * (len(nums)+1)\n",
        "\n",
        "        #somma cumulativa\n",
        "        for i in range(len(nums)):\n",
        "            self.sum[i+1] = self.sum[i] + nums[i]\n",
        "\n",
        "    #ho spostato gli indici perchè ho fatto la sum di len n +1 così risulta + facile fare left-1, quindi left-1 +1 = left e right +1 = right+1\n",
        "    #così posso riferirmi all'array di sum facilmente\n",
        "    def sumRange(self, left: int, right: int) -> int:\n",
        "        return self.sum[right+1] - self.sum[left]\n",
        "\n",
        "\n",
        "# Your NumArray object will be instantiated and called as such:\n",
        "# obj = NumArray(nums)\n",
        "# param_1 = obj.sumRange(left,right)"
      ]
    },
    {
      "cell_type": "markdown",
      "metadata": {
        "id": "Xpo6YMZlQvTa"
      },
      "source": [
        "# PREFIX SUM & SUFFIX SUM (LEET 1769)\n",
        "\n",
        "In questo caso farlo senza prefix e suffix sarebbe n^2. Quello che faccio con prexis sum e suffix sum è calcolarsi prima la somma da sx a dx e poi da dx a sx, il risultato finale è dato dalla somma di prefix sum e suffix sum.\n",
        "\n",
        "In questo caso nel leet si poteva ottenere prefix sum e suffix sum tenendosi il numero di biglie incontrate fino a quel punto e aggiornandolo in caso si trovasse una nuova biglia, e lo si aggiungeva al risultato corrente in modo che il numero totale di biglie da muovere venisse aggiornato e quindi anche il numero totale di movimenti."
      ]
    },
    {
      "cell_type": "code",
      "execution_count": null,
      "metadata": {
        "id": "BGlRlydbQvgt"
      },
      "outputs": [],
      "source": [
        "class Solution:\n",
        "    def minOperations(self, boxes: str) -> List[int]:\n",
        "        n = len(boxes)\n",
        "        #computo da sx a dx e da dx a sx così posso farlo in tempo n,\n",
        "        #ogni volta aggiungo il numero di palle perchè per andare da una posizione ad una adiacente mi basta\n",
        "        #computare il numero di palle e aggiungerle perchè devo spostare ogni volta tot palle per inserle nel box i\n",
        "        l_r = [0] * n\n",
        "        r_l = [0] * n\n",
        "\n",
        "        tot_balls = 0\n",
        "        tot_operations = 0\n",
        "        for i in range(n):\n",
        "            tot_operations += tot_balls\n",
        "            l_r[i] = tot_operations\n",
        "            if boxes[i] == '1':\n",
        "                tot_balls += 1\n",
        "\n",
        "        tot_balls = 0\n",
        "        tot_operations = 0\n",
        "        for i in reversed(range(n)):\n",
        "            tot_operations += tot_balls\n",
        "            r_l[i] = tot_operations\n",
        "            if boxes[i] == '1':\n",
        "                tot_balls += 1\n",
        "\n",
        "        for i in range(n):\n",
        "            l_r[i] += r_l[i]\n",
        "        return l_r"
      ]
    },
    {
      "cell_type": "markdown",
      "metadata": {
        "id": "WpVKmBzrQv_T"
      },
      "source": [
        "GRAPH SHORTEST PATH (LEET 1368)\n",
        "\n",
        "if weights are 0-1 in a directed graph you can use BFS 0-1 that means if weight is 1 append it to the right if it 0 have priority so append it to left.\n",
        "Otherwise use heapqueue"
      ]
    },
    {
      "cell_type": "code",
      "execution_count": null,
      "metadata": {
        "id": "pWsINeef0MMK"
      },
      "outputs": [],
      "source": [
        "class Solution:\n",
        "    def minCost(self, grid: List[List[int]]) -> int:\n",
        "        directions = [(0,1,1), (0,-1,2), (1,0,3), (-1,0,4)]\n",
        "        queue = deque([(0,0,0)]) # row, col , path\n",
        "        visited = set()\n",
        "        rows = len(grid)\n",
        "        cols = len(grid[0])\n",
        "\n",
        "        while queue:\n",
        "            r, c, path = queue.popleft()\n",
        "            if (r,c) == (rows-1, cols-1):\n",
        "                return path\n",
        "            if (r,c) in visited:\n",
        "                continue\n",
        "            visited.add((r,c))\n",
        "\n",
        "            for x,y,d in directions:\n",
        "                if 0 <= x + r < rows and 0 <= y + c < cols and (r+x, c+y):\n",
        "                    if d == grid[r][c]:\n",
        "                        queue.appendleft((r+x, c+y, path))\n",
        "                    else:\n",
        "                        queue.append((r+x, c+y, path + 1))"
      ]
    }
  ],
  "metadata": {
    "colab": {
      "provenance": []
    },
    "kernelspec": {
      "display_name": "Python 3",
      "name": "python3"
    },
    "language_info": {
      "name": "python"
    }
  },
  "nbformat": 4,
  "nbformat_minor": 0
}

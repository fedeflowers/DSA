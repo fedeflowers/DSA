{
  "cells": [
    {
      "cell_type": "markdown",
      "metadata": {
        "id": "J6eqWJxKxi12"
      },
      "source": [
        "The idea is to put only important algorithms to Review"
      ]
    },
    {
      "cell_type": "markdown",
      "metadata": {
        "id": "KULkr3nvQZHB"
      },
      "source": [
        "# DIFFERENCE ARRAY (LEET 2381)\n",
        "\n",
        "Da usare quando si vuole fare un range update, invece che aggiornare ogni elemento da index 2 a 5 ad esempio. Incremento l’elemento all’indice 2 di + tot e tolgo all’indice end +1 – tot quindi se voglio aggiungere 2 a tutti gli elementi tra 2 e 5 devo fare\n",
        "\n",
        "Start = [1, 2, 1, 1, 3, 0, 0]\n",
        "\n",
        "Compute gradient array: array delle somme parziali, cioè prendo solo le differenze tra elementi\n",
        "\n",
        "Arra_diff= [1, 1, -1, 0, 2, -3, 0, 0]   \n",
        "\n",
        "last element is dummy. Il dummy serve se voglio aggiornare un range che ha dentro anche l’ultimo index dell’array\n",
        "\n",
        "Aggiungo il valore a index 2 e tolgo a index 5+1:\n",
        "\n",
        "Arra_diff= [1, 1, 1, 0, 2, -5, 0, 0]\n",
        "\n",
        "Poi per ottenere la somma finale devo fare la somma cumulativa, l’ultimo elemento dell’array sum è dummy\n",
        "\n",
        "Tot_sum = [1, 2, 3, 3, 5, 0,  0, 0]\n",
        "\n",
        "Final_res = [1, 2, 3, 3, 5, 0,  0] #remove last element"
      ]
    },
    {
      "cell_type": "code",
      "execution_count": null,
      "metadata": {
        "id": "IUa_8gNQQTBt"
      },
      "outputs": [],
      "source": [
        "class Solution:\n",
        "    def shiftingLetters(self, s: str, shifts: List[List[int]]) -> str:\n",
        "        #0 sta dov'è, -num vai indietro e +num vai inavanti\n",
        "        arr_diff = [0] * (len(s)+1)\n",
        "        final_shifts = []\n",
        "        for shift in shifts:\n",
        "            if shift[2]:\n",
        "                arr_diff[shift[0]] += 1\n",
        "                arr_diff[shift[1]+1] -= 1\n",
        "            else:\n",
        "                arr_diff[shift[0]] -= 1\n",
        "                arr_diff[shift[1]+1] += 1\n",
        "\n",
        "        shift = 0\n",
        "        for i in range(len(arr_diff)-1):\n",
        "            shift += arr_diff[i]\n",
        "            final_shifts.append(shift)\n",
        "\n",
        "        res = \"\"\n",
        "        for i, el in enumerate(final_shifts):\n",
        "            new_char = chr((ord(s[i]) - ord('a') + el) % 26 + ord('a'))\n",
        "            res += new_char\n",
        "        return res\n"
      ]
    },
    {
      "cell_type": "markdown",
      "metadata": {
        "id": "ouDTP1I5QojI"
      },
      "source": [
        " # BIT (LEET 307) MUTABLE QUERY RANGE\n",
        " It is possible to use also segment tree tree\n",
        "\n",
        "https://www.youtube.com/watch?v=uSFzHCZ4E-8 (BIT explanation)\n",
        "\n",
        " https://cp-algorithms.com/data_structures/fenwick.html   (binary)\n",
        "\n",
        " https://cp-algorithms.com/data_structures/segment_tree.html  (segment)\n",
        "\n",
        " We need tree structure because there is an updated otherwise a sum array would be suffienct e.g.:\n",
        " start = [ 5, 2, 9, -3, 5]\n",
        "\n",
        " summ array = [5, 7, 16, 13, 18]\n",
        "\n",
        " sum from index 1 to 3: summ_array[3] - sum_array[0] = 13-5 = 8\n",
        "\n",
        " So basically to get the sum from i to j, you need to take arr[j] - arr[i-1]\n",
        " but it doesnt work with updates (update in O(N) time) so we need to use a tree structure.\n",
        "\n",
        "-------------------------------------------------------------------\n",
        "BIT\n",
        "\n",
        " The magic of index & -index lies in efficiently isolating and leveraging the lowest set bit:\n",
        "\n",
        "Addition (+=): Move to the next index that overlaps the current range.\n",
        "Subtraction (-=): Move to the parent index, narrowing the range.\n",
        "\n",
        "use addition for updates and subtraction for summing, to get the parent node\n",
        "\n",
        "Intuition Behind the Difference\n",
        "Updates (+= index & -index): Propagate changes forward to larger indices that depend on the current index.\n",
        "Queries (-= index & -index): Aggregate contributions backward from smaller indices that form the prefix sum.\n",
        "\n",
        "\n",
        "\n",
        "\n",
        "\n"
      ]
    },
    {
      "cell_type": "code",
      "execution_count": null,
      "metadata": {
        "id": "1mz92J5Gyxif"
      },
      "outputs": [],
      "source": [
        "class BIT:\n",
        "      \"\"\"\n",
        "    Implementation of Binary Indexed Tree/Fenwick Tree\n",
        "\n",
        "    Memory:\n",
        "        creation - O(n)\n",
        "        update   - O(1)\n",
        "        get_sum  - O(1)\n",
        "\n",
        "    Time:\n",
        "        creation - O(n*log(n))\n",
        "        update   - O(log(n))\n",
        "        get_sum  - O(log(n))\n",
        "    \"\"\"\n",
        "    def __init__(self, nums: List[int]):\n",
        "        self.size = len(nums)\n",
        "        self.bit = [0] * (self.size +1)\n",
        "        for i in range(self.size):\n",
        "            self.update(i+1, nums[i])\n",
        "\n",
        "    def update(self, index: int, delta: int) -> None:\n",
        "        while index <= self.size:\n",
        "            self.bit[index] += delta\n",
        "            index += index & -index #set LSB\n",
        "\n",
        "    def query(self, index) -> int:\n",
        "        res = 0\n",
        "        while index > 0:\n",
        "            res += self.bit[index]\n",
        "            index -= index & -index\n",
        "        return res\n",
        "\n",
        "class NumArray:\n",
        "    \"\"\"\n",
        "    Time:   O(N∗Log(N))\n",
        "    Memory: O(n)\n",
        "    \"\"\"\n",
        "    def __init__(self, nums: List[int]):\n",
        "        self.nums = nums\n",
        "        self.bit = BIT(nums)\n",
        "\n",
        "    def update(self, index: int, val: int) -> None:\n",
        "        self.bit.update(index + 1, val - self.nums[index])\n",
        "        self.nums[index] = val\n",
        "\n",
        "    def sumRange(self, left: int, right: int) -> int:\n",
        "        return self.bit.query(right+1) - self.bit.query(left)\n",
        "\n",
        "\n",
        "# Your NumArray object will be instantiated and called as such:\n",
        "# obj = NumArray(nums)\n",
        "# obj.update(index,val)\n",
        "# param_2 = obj.sumRange(left,right)"
      ]
    },
    {
      "cell_type": "markdown",
      "metadata": {
        "id": "DC10HrF-SSRi"
      },
      "source": [
        "# IMMUTABLE QUERY RANGE (LEET 303)\n",
        "\n",
        "non serve la tree structure perchè non abbiamo updates\n",
        "quindi basta utilizzare l'array della prefix sum, cioè somma cumulativa e fare somm:  arr[right] - arr[left-1]"
      ]
    },
    {
      "cell_type": "code",
      "execution_count": null,
      "metadata": {
        "id": "at2_yWo5SRf_"
      },
      "outputs": [],
      "source": [
        "class NumArray:\n",
        "\n",
        "    def __init__(self, nums: List[int]):\n",
        "        self.sum = [0] * (len(nums)+1)\n",
        "\n",
        "        #somma cumulativa\n",
        "        for i in range(len(nums)):\n",
        "            self.sum[i+1] = self.sum[i] + nums[i]\n",
        "\n",
        "    #ho spostato gli indici perchè ho fatto la sum di len n +1 così risulta + facile fare left-1, quindi left-1 +1 = left e right +1 = right+1\n",
        "    #così posso riferirmi all'array di sum facilmente\n",
        "    def sumRange(self, left: int, right: int) -> int:\n",
        "        return self.sum[right+1] - self.sum[left]\n",
        "\n",
        "\n",
        "# Your NumArray object will be instantiated and called as such:\n",
        "# obj = NumArray(nums)\n",
        "# param_1 = obj.sumRange(left,right)"
      ]
    },
    {
      "cell_type": "markdown",
      "metadata": {
        "id": "Xpo6YMZlQvTa"
      },
      "source": [
        "# PREFIX SUM & SUFFIX SUM (LEET 1769)\n",
        "\n",
        "In questo caso farlo senza prefix e suffix sarebbe n^2. Quello che faccio con prexis sum e suffix sum è calcolarsi prima la somma da sx a dx e poi da dx a sx, il risultato finale è dato dalla somma di prefix sum e suffix sum.\n",
        "\n",
        "In questo caso nel leet si poteva ottenere prefix sum e suffix sum tenendosi il numero di biglie incontrate fino a quel punto e aggiornandolo in caso si trovasse una nuova biglia, e lo si aggiungeva al risultato corrente in modo che il numero totale di biglie da muovere venisse aggiornato e quindi anche il numero totale di movimenti."
      ]
    },
    {
      "cell_type": "code",
      "execution_count": null,
      "metadata": {
        "id": "BGlRlydbQvgt"
      },
      "outputs": [],
      "source": [
        "class Solution:\n",
        "    def minOperations(self, boxes: str) -> List[int]:\n",
        "        n = len(boxes)\n",
        "        #computo da sx a dx e da dx a sx così posso farlo in tempo n,\n",
        "        #ogni volta aggiungo il numero di palle perchè per andare da una posizione ad una adiacente mi basta\n",
        "        #computare il numero di palle e aggiungerle perchè devo spostare ogni volta tot palle per inserle nel box i\n",
        "        l_r = [0] * n\n",
        "        r_l = [0] * n\n",
        "\n",
        "        tot_balls = 0\n",
        "        tot_operations = 0\n",
        "        for i in range(n):\n",
        "            tot_operations += tot_balls\n",
        "            l_r[i] = tot_operations\n",
        "            if boxes[i] == '1':\n",
        "                tot_balls += 1\n",
        "\n",
        "        tot_balls = 0\n",
        "        tot_operations = 0\n",
        "        for i in reversed(range(n)):\n",
        "            tot_operations += tot_balls\n",
        "            r_l[i] = tot_operations\n",
        "            if boxes[i] == '1':\n",
        "                tot_balls += 1\n",
        "\n",
        "        for i in range(n):\n",
        "            l_r[i] += r_l[i]\n",
        "        return l_r"
      ]
    },
    {
      "cell_type": "markdown",
      "metadata": {
        "id": "WpVKmBzrQv_T"
      },
      "source": [
        "# GRAPH SHORTEST PATH (LEET 1368)\n",
        "\n",
        "if weights are 0-1 in a directed graph you can use BFS 0-1 that means if weight is 1 append it to the right if it 0 have priority so append it to left.\n",
        "Otherwise use heapqueue"
      ]
    },
    {
      "cell_type": "code",
      "execution_count": null,
      "metadata": {
        "id": "pWsINeef0MMK"
      },
      "outputs": [],
      "source": [
        "class Solution:\n",
        "    def minCost(self, grid: List[List[int]]) -> int:\n",
        "        directions = [(0,1,1), (0,-1,2), (1,0,3), (-1,0,4)]\n",
        "        queue = deque([(0,0,0)]) # row, col , path\n",
        "        visited = set()\n",
        "        rows = len(grid)\n",
        "        cols = len(grid[0])\n",
        "\n",
        "        while queue:\n",
        "            r, c, path = queue.popleft()\n",
        "            if (r,c) == (rows-1, cols-1):\n",
        "                return path\n",
        "            if (r,c) in visited:\n",
        "                continue\n",
        "            visited.add((r,c))\n",
        "\n",
        "            for x,y,d in directions:\n",
        "                if 0 <= x + r < rows and 0 <= y + c < cols and (r+x, c+y):\n",
        "                    if d == grid[r][c]:\n",
        "                        queue.appendleft((r+x, c+y, path))\n",
        "                    else:\n",
        "                        queue.append((r+x, c+y, path + 1))"
      ]
    },
    {
      "cell_type": "markdown",
      "metadata": {},
      "source": [
        "# Multi-source BFS (Leet 407)\n",
        "\n",
        "graph traversal problem.\n",
        "\n",
        "The idea is to add the border to the min heap bcs no water can be trapped by the border, and as we expand our search through bfs guided by mean heap, we can find adiacent cells that might be contained and so the curr maximum heigh will be lower than the height of the found cell. This way we know that we can trap water on tat cell. if the cell was visited before with an adiacent cell of lower height of that it means that no water can be trapped on that cell as it would flow through the lower height cells.\n",
        "\n",
        "When i arrive at popping a cell i know the max height currently and i get water to trap only by doing the max height - curr height that is positive only if there is water to trap otherwise is gonna be 0 because we are visitng in order of height\n",
        "\n",
        "\n",
        "The hard part is to understand the intuition and that res += maxheight - h is always optimal meaning that it always stores the trapped water because the other adjacent cells if of lower height or at the border are already visited"
      ]
    },
    {
      "cell_type": "code",
      "execution_count": null,
      "metadata": {},
      "outputs": [],
      "source": [
        "class Solution:\n",
        "    def trapRainWater(self, heightMap: List[List[int]]) -> int:\n",
        "        heap = []\n",
        "        ROWS, COLS = len(heightMap), len(heightMap[0])\n",
        "        visited = set()\n",
        "        DIRECTIONS = [(0,1), (1,0), (-1,0), (0,-1)]\n",
        "        # put all border cells to the heap, no water can be contained by them so makes sence to explore them first\n",
        "        for row in range(ROWS):\n",
        "            for col in range(COLS):\n",
        "                if row in [0, ROWS-1] or col in [0, COLS-1]:\n",
        "                    heapq.heappush(heap, (heightMap[row][col], row, col))\n",
        "                    visited.add((row, col))\n",
        "        \n",
        "        #multi-source BFS\n",
        "        maxheight = 0\n",
        "        res = 0\n",
        "        while heap:\n",
        "            h, r, c = heapq.heappop(heap)\n",
        "            maxheight = max(maxheight, h)\n",
        "            res += maxheight - h\n",
        "\n",
        "            for d in DIRECTIONS:\n",
        "                x, y = d\n",
        "                new_r, new_c = r+x, c+y\n",
        "                if (new_r, new_c) in visited:\n",
        "                    continue\n",
        "                if 0 <= new_r < ROWS and 0 <= new_c < COLS :\n",
        "                    heapq.heappush(heap, (heightMap[new_r][new_c], new_r, new_c))\n",
        "                    visited.add((new_r, new_c))\n",
        "\n",
        "\n",
        "        return res\n"
      ]
    },
    {
      "cell_type": "markdown",
      "metadata": {},
      "source": [
        "# Smart use of dictionaries to takle O(1) operations (LEET 2661)\n",
        "\n",
        "You are given a 0-indexed integer array arr, and an m x n integer matrix mat. arr and mat both contain all the integers in the range [1, m * n].\n",
        "Go through each index i in arr starting from index 0 and paint the cell in mat containing the integer arr[i].\n",
        "Return the smallest index i at which either a row or a column will be completely painted in mat.\n",
        "\n",
        "If not useing the nums array i couldnt get back the r, c and if not using sums_rows, and sums_cols i couldnt compute the sum in O(1) time"
      ]
    },
    {
      "cell_type": "code",
      "execution_count": null,
      "metadata": {},
      "outputs": [],
      "source": [
        "class Solution:\n",
        "    def firstCompleteIndex(self, arr: List[int], mat: List[List[int]]) -> int:\n",
        "        m = len(mat)\n",
        "        n = len(mat[0])\n",
        "        #dic from num to row, col\n",
        "        nums = {}\n",
        "        #another dic of row and col sums to determine the first painted?\n",
        "        #{0 ..m)} for rows and {0...n} for cols\n",
        "        sums_rows = defaultdict(int)\n",
        "        sums_cols = defaultdict(int)\n",
        "        for i in range(m):\n",
        "            for j in range(n):\n",
        "                nums[mat[i][j]] = (i,j)\n",
        "                sums_rows[i] += mat[i][j]\n",
        "                sums_cols[j] += mat[i][j]\n",
        "\n",
        "\n",
        "        for i, el in enumerate(arr):\n",
        "            r, c = nums[el]\n",
        "            sums_rows[r] -= el\n",
        "            sums_cols[c] -= el\n",
        "\n",
        "            if sums_rows[r] == 0 or sums_cols[c] == 0:\n",
        "                return i\n"
      ]
    },
    {
      "cell_type": "markdown",
      "metadata": {},
      "source": [
        "# DP + sliding window (leet 2017)\n",
        "\n",
        "Step 1: Sum the Top Row\n",
        "\n",
        "Calculate the total sum of the top row (grid[0]).\n",
        "This represents the score available to the second robot  initially if the first robot doesn’t take any cells from the top row.\n",
        "Why? The top row sum decreases as the first robot progresses.\n",
        "Step 2: Traverse Columns \n",
        "\n",
        "Use a sliding window approach :\n",
        "Deduct the value of the current column from the top row's sum (representing the first robot collecting these cells).\n",
        "Add the value of the current column to the bottom row's cumulative sum (bottom).\n",
        "Calculate the maximum score left for the second robot using max(top, bottom).\n",
        "Track the minimum \"maximum score\" possible using res.\n",
        "Step 3: Minimize the Maximum \n",
        "\n",
        "The goal is to minimize the \"worst-case scenario\" for the second robot, ensuring a balanced outcome."
      ]
    },
    {
      "cell_type": "code",
      "execution_count": null,
      "metadata": {},
      "outputs": [],
      "source": [
        "class Solution:\n",
        "    def gridGame(self, grid):\n",
        "        top = sum(grid[0])\n",
        "        bottom = 0\n",
        "        res = float('inf')\n",
        "        \n",
        "        for i in range(len(grid[0])):\n",
        "            top -= grid[0][i]\n",
        "            res = min(res, max(top, bottom))\n",
        "            bottom += grid[1][i]\n",
        "        \n",
        "        return res"
      ]
    }
  ],
  "metadata": {
    "colab": {
      "provenance": []
    },
    "kernelspec": {
      "display_name": "Python 3",
      "name": "python3"
    },
    "language_info": {
      "name": "python"
    }
  },
  "nbformat": 4,
  "nbformat_minor": 0
}

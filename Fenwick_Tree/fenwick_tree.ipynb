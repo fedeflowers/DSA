{
 "cells": [
  {
   "cell_type": "markdown",
   "id": "fe9e1c9c",
   "metadata": {},
   "source": [
    "A Fenwick Tree or index tree is used for range queryes updates, if you dont require updates use prefix sum and difference array which are easier and good enough, however with updates those become O(n) while fenwick tree does updates in log(n), the creation is still O(n)"
   ]
  },
  {
   "cell_type": "code",
   "execution_count": 24,
   "id": "ab3fc989",
   "metadata": {},
   "outputs": [
    {
     "name": "stdout",
     "output_type": "stream",
     "text": [
      "41\n",
      "23\n"
     ]
    }
   ],
   "source": [
    "class FenwickTree():\n",
    "    def __init__(self, queries):\n",
    "        #create the fenwick tree\n",
    "        #start the fenwick tree at index 1\n",
    "        self.queries = [0]\n",
    "        for q in queries:\n",
    "            self.queries.append(q)\n",
    "\n",
    "        for i in range(len(queries)):\n",
    "            parent = i + (-i & i)\n",
    "            if parent < len(queries):\n",
    "                self.queries[parent] = self.queries[parent] + self.queries[i]\n",
    "\n",
    "        \n",
    "    def add(self, val, i): \n",
    "        #add val at index i\n",
    "        i += 1 # zero-based fw\n",
    "        while i < len(self.queries):\n",
    "            self.queries[i] += val\n",
    "            i += (i & -i)\n",
    "\n",
    "    def sum(self, i):\n",
    "        #compute the sum at index i\n",
    "        res = 0\n",
    "        i += 1 # zero-based fw\n",
    "        while i > 0:\n",
    "            res += self.queries[i]\n",
    "            i -= (i & -i)\n",
    "        return res\n",
    "    \n",
    "    def range_sum(self, l, r):\n",
    "        return self.sum(r) - self.sum(l - 1) #indexes start from 1\n",
    "    #if you want it 0 based, add 1 to i in both sum and add method\n",
    "    \n",
    "    def print(self):\n",
    "        print(self.queries)\n",
    "\n",
    "\n",
    "queries = [5, 2 ,9, -3, 5, 20, 10, -7, 2, 3, -4, 0, -2, 15, 5]\n",
    "fw = FenwickTree(queries)\n",
    "print(fw.sum(7))\n",
    "\n",
    "#sum from 5 to 7, if seven is included, same as the diff array approach\n",
    "print(fw.range_sum(5, 7)) "
   ]
  },
  {
   "cell_type": "code",
   "execution_count": null,
   "id": "8da9e27a",
   "metadata": {},
   "outputs": [],
   "source": []
  }
 ],
 "metadata": {
  "kernelspec": {
   "display_name": "Python 3",
   "language": "python",
   "name": "python3"
  },
  "language_info": {
   "codemirror_mode": {
    "name": "ipython",
    "version": 3
   },
   "file_extension": ".py",
   "mimetype": "text/x-python",
   "name": "python",
   "nbconvert_exporter": "python",
   "pygments_lexer": "ipython3",
   "version": "3.10.5"
  }
 },
 "nbformat": 4,
 "nbformat_minor": 5
}

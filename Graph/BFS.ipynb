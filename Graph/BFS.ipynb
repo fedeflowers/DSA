{
 "cells": [
  {
   "cell_type": "markdown",
   "metadata": {},
   "source": [
    "# GRAPH SHORTEST PATH (LEET 1368)\n",
    "\n",
    "if weights are 0-1 in a directed graph you can use BFS 0-1 that means if weight is 1 append it to the right if it 0 have priority so append it to left.\n",
    "Otherwise use heapqueue"
   ]
  },
  {
   "cell_type": "code",
   "execution_count": null,
   "metadata": {},
   "outputs": [],
   "source": [
    "class Solution:\n",
    "    def minCost(self, grid: List[List[int]]) -> int:\n",
    "        directions = [(0,1,1), (0,-1,2), (1,0,3), (-1,0,4)]\n",
    "        queue = deque([(0,0,0)]) # row, col , path\n",
    "        visited = set()\n",
    "        rows = len(grid)\n",
    "        cols = len(grid[0])\n",
    "\n",
    "        while queue:\n",
    "            r, c, path = queue.popleft()\n",
    "            if (r,c) == (rows-1, cols-1):\n",
    "                return path\n",
    "            if (r,c) in visited:\n",
    "                continue\n",
    "            visited.add((r,c))\n",
    "\n",
    "            for x,y,d in directions:\n",
    "                if 0 <= x + r < rows and 0 <= y + c < cols and (r+x, c+y):\n",
    "                    if d == grid[r][c]:\n",
    "                        queue.appendleft((r+x, c+y, path))\n",
    "                    else:\n",
    "                        queue.append((r+x, c+y, path + 1))"
   ]
  },
  {
   "cell_type": "markdown",
   "metadata": {},
   "source": [
    "# BFS graph traversal and in degree (Leet 802)\n",
    "\n",
    "The idea is to reverse the edges and start from the terminal nodes, then for each node found add it to result and queue only if the in_degree is 0, a.k.a. have paths only from the terminal nodes. \n",
    "This is possible only if you reverse the edge list"
   ]
  },
  {
   "cell_type": "code",
   "execution_count": null,
   "metadata": {},
   "outputs": [],
   "source": [
    "class Solution:\n",
    "    def eventualSafeNodes(self, graph: List[List[int]]) -> List[int]:\n",
    "        #io farei  edges al contrario, quindi parto dai nodi terminali, vedo dove finiscono, se finiscono in nodo che ha come entrata un path da un nodo terminale e basta allora viene aggiunto anche quello alla risposta, altrimenti no. così dovrebbe bastare una sola visita del grafo invece che fare una visita per nodo.\n",
    "        #use in-degree to find how many edges are going in\n",
    "\n",
    "\n",
    "        reversed_adj_list = defaultdict(list)\n",
    "        in_degree = {}\n",
    "        res = []\n",
    "        queue = deque()\n",
    "        n = len(graph)\n",
    "        for i in range(n):\n",
    "            for el in graph[i]:\n",
    "                reversed_adj_list[el].append(i) \n",
    "            if len(graph[i]) == 0:\n",
    "                queue.append(i)\n",
    "                in_degree[i] = 0\n",
    "            else:\n",
    "                in_degree[i] = len(graph[i])\n",
    "\n",
    "        while queue:\n",
    "            el = queue.popleft()\n",
    "            res.append(el)\n",
    "            for neighbour in reversed_adj_list[el]:\n",
    "                in_degree[neighbour] -= 1\n",
    "                if in_degree[neighbour] == 0:\n",
    "                    queue.append(neighbour)\n",
    "\n",
    "        res.sort()\n",
    "        return res\n",
    "\n"
   ]
  }
 ],
 "metadata": {
  "language_info": {
   "name": "python"
  }
 },
 "nbformat": 4,
 "nbformat_minor": 2
}

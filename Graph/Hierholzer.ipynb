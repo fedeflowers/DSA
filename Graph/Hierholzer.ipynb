{
 "cells": [
  {
   "cell_type": "markdown",
   "id": "3e601c8a",
   "metadata": {},
   "source": [
    "# leetcode 332"
   ]
  },
  {
   "cell_type": "code",
   "execution_count": null,
   "id": "8d8b8ac3",
   "metadata": {},
   "outputs": [],
   "source": [
    "class Solution:\n",
    "    def findItinerary(self, tickets: List[List[str]]) -> List[str]:\n",
    "        \n",
    "        adj = defaultdict(list)\n",
    "        for src, dst in tickets:\n",
    "            heapq.heappush(adj[src], dst)\n",
    "\n",
    "        res = []\n",
    "\n",
    "        def dfs(node):\n",
    "            while adj[node]:\n",
    "                next_dest = heapq.heappop(adj[node])\n",
    "                dfs(next_dest)\n",
    "            res.append(node)\n",
    "\n",
    "        dfs(\"JFK\")\n",
    "        return res[::-1]  # reverse because we build post-order\n"
   ]
  }
 ],
 "metadata": {
  "language_info": {
   "name": "python"
  }
 },
 "nbformat": 4,
 "nbformat_minor": 5
}

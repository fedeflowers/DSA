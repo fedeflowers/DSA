{
 "cells": [
  {
   "cell_type": "markdown",
   "metadata": {},
   "source": [
    "# Union find (leet 684)\n",
    "\n",
    "for each edge update the root through the connections to it, the first already connected is a redundant one"
   ]
  },
  {
   "cell_type": "code",
   "execution_count": null,
   "metadata": {},
   "outputs": [],
   "source": [
    "class Solution:\n",
    "    def findRedundantConnection(self, edges: List[List[int]]) -> List[int]:\n",
    "        root = list(range(len(edges) + 1)) # each node is root of own subtree\n",
    "\n",
    "        def find_root(node):\n",
    "            if root[node] != node:\n",
    "                root[node] = find_root(root[node]) # set root for node as root of subtree\n",
    "            return root[node] # found root of subtree\n",
    "\n",
    "        for node1, node2 in edges: \n",
    "            root1, root2 = find_root(node1), find_root(node2) # find\n",
    "\n",
    "            if root1 == root2:\n",
    "                return [node1, node2] # both nodes are already in same subtree\n",
    " \n",
    "            root[root2] = root1 # Union\n",
    "            # root[root1] = root2 also works            "
   ]
  }
 ],
 "metadata": {
  "kernelspec": {
   "display_name": "base",
   "language": "python",
   "name": "python3"
  },
  "language_info": {
   "name": "python",
   "version": "3.12.2"
  }
 },
 "nbformat": 4,
 "nbformat_minor": 2
}

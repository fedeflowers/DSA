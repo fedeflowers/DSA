{
 "cells": [
  {
   "cell_type": "markdown",
   "metadata": {},
   "source": [
    "# Multi-source BFS (Leet 407)\n",
    "\n",
    "graph traversal problem.\n",
    "\n",
    "The idea is to add the border to the min heap bcs no water can be trapped by the border, and as we expand our search through bfs guided by mean heap, we can find adiacent cells that might be contained and so the curr maximum heigh will be lower than the height of the found cell. This way we know that we can trap water on tat cell. if the cell was visited before with an adiacent cell of lower height of that it means that no water can be trapped on that cell as it would flow through the lower height cells.\n",
    "\n",
    "When i arrive at popping a cell i know the max height currently and i get water to trap only by doing the max height - curr height that is positive only if there is water to trap otherwise is gonna be 0 because we are visitng in order of height\n",
    "\n",
    "\n",
    "The hard part is to understand the intuition and that res += maxheight - h is always optimal meaning that it always stores the trapped water because the other adjacent cells if of lower height or at the border are already visited"
   ]
  },
  {
   "cell_type": "code",
   "execution_count": null,
   "metadata": {},
   "outputs": [],
   "source": [
    "class Solution:\n",
    "    def trapRainWater(self, heightMap: List[List[int]]) -> int:\n",
    "        heap = []\n",
    "        ROWS, COLS = len(heightMap), len(heightMap[0])\n",
    "        visited = set()\n",
    "        DIRECTIONS = [(0,1), (1,0), (-1,0), (0,-1)]\n",
    "        # put all border cells to the heap, no water can be contained by them so makes sence to explore them first\n",
    "        for row in range(ROWS):\n",
    "            for col in range(COLS):\n",
    "                if row in [0, ROWS-1] or col in [0, COLS-1]:\n",
    "                    heapq.heappush(heap, (heightMap[row][col], row, col))\n",
    "                    visited.add((row, col))\n",
    "        \n",
    "        #multi-source BFS\n",
    "        maxheight = 0\n",
    "        res = 0\n",
    "        while heap:\n",
    "            h, r, c = heapq.heappop(heap)\n",
    "            maxheight = max(maxheight, h)\n",
    "            res += maxheight - h\n",
    "\n",
    "            for d in DIRECTIONS:\n",
    "                x, y = d\n",
    "                new_r, new_c = r+x, c+y\n",
    "                if (new_r, new_c) in visited:\n",
    "                    continue\n",
    "                if 0 <= new_r < ROWS and 0 <= new_c < COLS :\n",
    "                    heapq.heappush(heap, (heightMap[new_r][new_c], new_r, new_c))\n",
    "                    visited.add((new_r, new_c))\n",
    "\n",
    "\n",
    "        return res\n"
   ]
  },
  {
   "cell_type": "markdown",
   "metadata": {},
   "source": [
    "# Multi-source BFS (leet 1765) same principle of leet 407\n",
    "\n",
    "source = water\n",
    "then update the adjacent cells by curr cell +1"
   ]
  },
  {
   "cell_type": "code",
   "execution_count": null,
   "metadata": {},
   "outputs": [],
   "source": [
    "class Solution:\n",
    "    def highestPeak(self, isWater: List[List[int]]) -> List[List[int]]:\n",
    "        m = len(isWater)\n",
    "        n = len(isWater[0])\n",
    "\n",
    "        grid = [[float(\"inf\")] * n for _ in range(m)]\n",
    "        directions = [(1, 0), (0, 1), (-1, 0), (0, -1)]\n",
    "        visited = set()\n",
    "        queue = deque()\n",
    "        #add water\n",
    "        for row in range(m):\n",
    "            for col in range(n):\n",
    "                if isWater[row][col]:\n",
    "                    grid[row][col] = 0\n",
    "                    queue.append((row, col))\n",
    "                    visited.add((row, col))\n",
    "        \n",
    "        while queue:\n",
    "            x, y = queue.popleft()\n",
    "            for d in directions:\n",
    "                new_x = x + d[0]\n",
    "                new_y = y + d[1]\n",
    "                if 0 <= new_x < m and 0 <= new_y < n and (new_x, new_y) not in visited:\n",
    "                    grid[new_x][new_y] = grid[x][y] + 1\n",
    "                    queue.append((new_x, new_y))\n",
    "                    visited.add((new_x, new_y))\n",
    "\n",
    "        return grid\n"
   ]
  }
 ],
 "metadata": {
  "language_info": {
   "name": "python"
  }
 },
 "nbformat": 4,
 "nbformat_minor": 2
}

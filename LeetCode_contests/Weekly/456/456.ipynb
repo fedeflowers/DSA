{
 "cells": [
  {
   "cell_type": "markdown",
   "id": "73aa3fa8",
   "metadata": {},
   "source": [
    "# 3597\n",
    "\n",
    "either simulate as described but the bottleneck is recreating the array each time, so a more efficient way is to use a Trie but it might be an overkill for this problem (here the trie is done recursively in a fancy way, I would problably just use the usual Trie OOP structure)"
   ]
  },
  {
   "cell_type": "code",
   "execution_count": null,
   "id": "bf137a2b",
   "metadata": {},
   "outputs": [],
   "source": [
    "#O(N*sqrt(N))\n",
    "# class Solution:\n",
    "#     def partitionString(self, s: str) -> List[str]:\n",
    "#         #try to implement as written in the algo\n",
    "#         seen = set()\n",
    "#         n = len(s)\n",
    "#         res = []\n",
    "#         curr = \"\"\n",
    "#         for i in range(n):\n",
    "#             curr+=s[i] \n",
    "\n",
    "#             if curr and curr not in seen:\n",
    "#                 seen.add(curr)\n",
    "#                 res.append(curr)\n",
    "#                 curr = \"\"\n",
    "\n",
    "#         return res\n",
    "\n",
    "\n",
    "            \n",
    "#O(N + m)\n",
    "trie_lambda = lambda: defaultdict(trie_lambda)\n",
    "\n",
    "class Solution:\n",
    "    def partitionString(self, s: str) -> List[str]:\n",
    "        trie = trie_lambda()\n",
    "        curr_start = 0\n",
    "        n = len(s)\n",
    "        ans = []\n",
    "        t = trie\n",
    "        for curr_end, c in enumerate(s):\n",
    "            if c not in t:\n",
    "                t = t[c]\n",
    "                ans.append(s[curr_start:curr_end + 1])\n",
    "                curr_start = curr_end + 1\n",
    "                t = trie\n",
    "            else:\n",
    "                t = t[c]\n",
    "        return ans"
   ]
  }
 ],
 "metadata": {
  "language_info": {
   "name": "python"
  }
 },
 "nbformat": 4,
 "nbformat_minor": 5
}

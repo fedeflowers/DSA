{
 "cells": [
  {
   "cell_type": "markdown",
   "metadata": {},
   "source": [
    "## Code Question 2\n",
    "\n",
    "The data engineers at Amazon are working on partitioning their server chains. There is a linear chain of `n` servers numbered from `1` to `n`, where the cost parameter associated with the `i`th server is represented by the array `cost[i]`. These servers need to be partitioned into exactly `k` different server chains. The cost of partitioning a server chain `servers[i:j]` is defined as `cost[i] + cost[j]`. The total cost is the sum of the partitioning cost of each server chain.\n",
    "\n",
    "Given `n` servers, an array `cost` and an integer `k`, find the minimum and maximum possible total cost of the operations and return them in the form of an array of size `2`: `[minimum cost, maximum cost]`.\n",
    "\n",
    "### Note:\n",
    "Partitioning of an array means splitting the array sequentially into two or more parts where each element belongs to exactly one partition.\n",
    "\n",
    "For an array `[1, 2, 3, 2, 5]`, a valid partition would be:\n",
    "\n",
    "\n",
    "Example:\n",
    "Given cost = [1, 2, 3, 2, 5] and k = 3,\n",
    "\n",
    "Partitioning\tCost\n",
    "[1], [2], [3, 2, 5]\t[1 + 2, 3 + 2 + 5] = [2, 8] = 14\\\n",
    "[1], [3, 2], [2, 5]\t[1 + 3, 2 + 5] = [4, 4, 10] = 18\\\n",
    "[1, 2], [3], [2, 5]\t[1 + 2, 3, 6, 7] = 16\\\n",
    "[1, 2, 3], [2], [5]\t[1 + 2 + 3, 2, 5, 7] = 14\\\n",
    "[1, 2],[3, 2], [5]\t[1 + 2 + 3 + 2, 5, 10] = 18\\\n",
    "The maximum and minimum possible partition costs are 14 and 18, respectively.\\\n",
    "Hence, the resulting array is [14, 18]."
   ]
  },
  {
   "cell_type": "code",
   "execution_count": 24,
   "metadata": {},
   "outputs": [
    {
     "name": "stdout",
     "output_type": "stream",
     "text": [
      "[14, 18]\n"
     ]
    }
   ],
   "source": [
    "def find_partition_cost(cost, k):\n",
    "    n = len(cost)\n",
    "    # Base cost: cost of the first and the last server.\n",
    "    base = cost[0] + cost[-1]\n",
    "    \n",
    "    # If k == 1, no cuts are made.\n",
    "    if k == 1:\n",
    "        return [base, base]\n",
    "    \n",
    "    # Compute the cost for each possible adjacent cut.\n",
    "    adjacent = [cost[i] + cost[i+1] for i in range(n - 1)]\n",
    "\n",
    "    # Sort the adjacent costs.\n",
    "    adjacent.sort()\n",
    "    print(adjacent)\n",
    "    \n",
    "    # Minimum cost: add the (k-1) smallest adjacent costs.\n",
    "    min_cost = base + sum(adjacent[:k-1])\n",
    "    \n",
    "    # Maximum cost: add the (k-1) largest adjacent costs.\n",
    "    max_cost = base + sum(adjacent[-(k-1):])\n",
    "    \n",
    "    return [min_cost, max_cost]\n",
    "\n",
    "\n",
    "\n",
    "def find_partition_cost(arr, k):\n",
    "    cost_of_partitions = sorted(arr[i -1] + arr[i] for i in range(1, len(arr)))\n",
    "    ends = arr[0] + arr[-1]\n",
    "    # min cost will be smallest k - 1 paritions + ends \n",
    "    # max cost largest k - 1 partitions + ends\n",
    "    return [ends + sum(cost_of_partitions[:(k-1)]), \n",
    "            ends + sum(cost_of_partitions[-(k-1):])]\n",
    "\n",
    "\n",
    "# Example usage:\n",
    "cost = [1, 2, 3, 2, 5]\n",
    "k = 3\n",
    "# cost = [1, 2, 3, 2, 5]\n",
    "# k = 2\n",
    "result = find_partition_cost(cost, k)\n",
    "print(result)  # Expected output: [14, 18]"
   ]
  },
  {
   "cell_type": "code",
   "execution_count": 1,
   "metadata": {},
   "outputs": [],
   "source": [
    "def partition_contiguous(arr, k):\n",
    "    result = []\n",
    "\n",
    "    def backtrack(start, path):\n",
    "        if len(path) == k:\n",
    "            if start == len(arr):\n",
    "                result.append(path[:])\n",
    "            return\n",
    "\n",
    "        # how many partitions we still need\n",
    "        parts_left = k - len(path)\n",
    "\n",
    "        # max possible end index for this partition\n",
    "        max_end = len(arr) - parts_left + 1\n",
    "\n",
    "        for end in range(start + 1, max_end + 1):\n",
    "            path.append(arr[start:end])\n",
    "            backtrack(end, path)\n",
    "            path.pop()\n",
    "\n",
    "    backtrack(0, [])\n",
    "    return result\n"
   ]
  },
  {
   "cell_type": "code",
   "execution_count": 2,
   "metadata": {},
   "outputs": [
    {
     "data": {
      "text/plain": [
       "[[[1], [2], [3, 2, 5]],\n",
       " [[1], [2, 3], [2, 5]],\n",
       " [[1], [2, 3, 2], [5]],\n",
       " [[1, 2], [3], [2, 5]],\n",
       " [[1, 2], [3, 2], [5]],\n",
       " [[1, 2, 3], [2], [5]]]"
      ]
     },
     "execution_count": 2,
     "metadata": {},
     "output_type": "execute_result"
    }
   ],
   "source": [
    "partition_contiguous([1, 2, 3, 2, 5], 3)"
   ]
  },
  {
   "cell_type": "markdown",
   "metadata": {},
   "source": [
    "# Amazon Encryption Problem\n",
    "\n",
    "## Problem Statement\n",
    "\n",
    "In order to ensure maximum security, the developers at Amazon employ multiple encryption methods to keep user data protected.\n",
    "\n",
    "In one method, numbers are encrypted using a scheme called **'Pascal Triangle'**. When an array of digits is fed to this system, it sums the adjacent digits. It then takes the rightmost digit (least significant digit) of each addition for the next step. Thus, the number of digits in each step is reduced by 1. This procedure is repeated until there are only **2 digits left**, and this sequence of **2 digits forms the encrypted number**.\n",
    "\n"
   ]
  },
  {
   "cell_type": "code",
   "execution_count": 58,
   "metadata": {},
   "outputs": [
    {
     "name": "stdout",
     "output_type": "stream",
     "text": [
      "All test cases pass!\n"
     ]
    }
   ],
   "source": [
    "def encrypt(numbers):\n",
    "    while len(numbers) > 2:\n",
    "        numbers = [(numbers[i] + numbers[i+1]) % 10 for i in range(len(numbers)-1)]\n",
    "    return f\"{numbers[0]}{numbers[1]}\"\n",
    "\n",
    "# encrypt([4, 5, 6, 7]) # Expected output: \"04\"\n",
    "# Running test cases\n",
    "def test_encrypt():\n",
    "    assert encrypt([4, 5, 6, 7]) == \"04\"\n",
    "    assert encrypt([1, 2, 3, 4, 5]) == \"08\"\n",
    "    assert encrypt([9, 8, 7, 6]) == \"28\"\n",
    "    assert encrypt([3, 3]) == \"33\"\n",
    "    \n",
    "    \n",
    "test_encrypt()\n",
    "print(\"All test cases pass!\")"
   ]
  },
  {
   "cell_type": "markdown",
   "metadata": {},
   "source": [
    "Amazon Prime Games is designing a game. The player needs to pass n rounds sequentially in this game. Rules of play are as follows:\n",
    "\n",
    "The player loses power[i] health to complete round i.\\\n",
    "The player’s health must be greater than 0 at all times.\\\n",
    "The player can choose to use armor in any one round. The armor will prevent damage of min(armor, power[i]).\\\n",
    "Determine the minimum starting health for a player to win the game."
   ]
  },
  {
   "cell_type": "code",
   "execution_count": 61,
   "metadata": {},
   "outputs": [
    {
     "name": "stdout",
     "output_type": "stream",
     "text": [
      "All test cases pass!\n"
     ]
    }
   ],
   "source": [
    "from typing import List\n",
    "\n",
    "def getMinimumHealth(power: List[int], armor: int) -> int:\n",
    "    total_damage = sum(power)\n",
    "    max_blockable = min(armor, max(power))\n",
    "    return total_damage - max_blockable + 1\n",
    "\n",
    "\n",
    "assert getMinimumHealth([1, 2, 6, 7], 5) == 12\n",
    "assert getMinimumHealth([5, 5, 5], 5) == 11\n",
    "assert getMinimumHealth([10], 100) == 1\n",
    "assert getMinimumHealth([2, 3, 4], 0) == 10\n",
    "assert getMinimumHealth([2, 3, 4], 3) == 7\n",
    "print(\"All test cases pass!\")"
   ]
  },
  {
   "cell_type": "markdown",
   "metadata": {},
   "source": [
    "## 2. Code Question 2\n",
    "\n",
    "The developers at Amazon are working on optimizing their database query times. There are `n` host servers, where the throughput of the `i`<sup>th</sup> host server is given by `host_throughput[i]`.\n",
    "\n",
    "These host servers are grouped into clusters of size three. The throughput of a cluster, denoted as `cluster_throughput`, is defined as the **median** of the `host_throughput` values of the three servers in the cluster. Each host server can be part of at most one cluster, and some servers may remain unused.\n",
    "\n",
    "The total system throughput, called `system_throughput`, is the sum of the throughputs of all the clusters formed. The task is to find the maximum possible `system_throughput`.\n",
    "\n",
    "> **Note**: The median of a cluster of three host servers is the throughput of the 2nd server when the three throughputs are sorted in either ascending or descending order.\n"
   ]
  },
  {
   "cell_type": "markdown",
   "metadata": {},
   "source": [
    "[2, 3, 4, 3,  4 ]\n",
    "0 1 2 3 4 \n",
    "sol = [2, 4, 4]\n",
    "throuput = 4\n",
    "\n",
    "[4, 6, 3, 5, 4, 5]\n",
    "sol = [4, 6, 3] [5, 4, 5]\n",
    "throuput = 4+ 5 = 9"
   ]
  },
  {
   "cell_type": "code",
   "execution_count": 17,
   "metadata": {},
   "outputs": [
    {
     "name": "stdout",
     "output_type": "stream",
     "text": [
      "All test cases pass!\n"
     ]
    }
   ],
   "source": [
    "def get_throughput(arr):\n",
    "    # use two pointer approach to get best partitions\n",
    "    arr.sort()\n",
    "    res = 0\n",
    "    start = 0\n",
    "    end = len(arr) - 1\n",
    "    partition = []\n",
    "    while start <= end:\n",
    "        if len(partition) != 3:\n",
    "            partition.append(arr[end])\n",
    "            end -= 1\n",
    "        if len(partition) != 3:\n",
    "            partition.append(arr[start])\n",
    "            start += 1\n",
    "        if len(partition) == 3:\n",
    "            res += partition[-1]\n",
    "            partition = []\n",
    "    return res\n",
    "\n",
    "assert get_throughput([2, 3, 4, 3,  4 ]) == 4\n",
    "assert get_throughput([4, 6, 3, 5, 4, 5]) == 9\n",
    "assert get_throughput([8, 6, 3, 4, 4, 5, 6]) == 11\n",
    "# [8,6,3] [4, 5, 6] = 11\n",
    "\n",
    "print(\"All test cases pass!\")"
   ]
  }
 ],
 "metadata": {
  "kernelspec": {
   "display_name": "Python 3",
   "language": "python",
   "name": "python3"
  },
  "language_info": {
   "codemirror_mode": {
    "name": "ipython",
    "version": 3
   },
   "file_extension": ".py",
   "mimetype": "text/x-python",
   "name": "python",
   "nbconvert_exporter": "python",
   "pygments_lexer": "ipython3",
   "version": "3.10.5"
  }
 },
 "nbformat": 4,
 "nbformat_minor": 2
}

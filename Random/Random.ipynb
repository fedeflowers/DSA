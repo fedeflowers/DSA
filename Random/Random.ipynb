{
 "cells": [
  {
   "cell_type": "markdown",
   "id": "ba91e970",
   "metadata": {},
   "source": [
    "# Multiplication\n",
    "multiply 2 numbers without * number"
   ]
  },
  {
   "cell_type": "code",
   "execution_count": 13,
   "id": "40747854",
   "metadata": {},
   "outputs": [
    {
     "data": {
      "text/plain": [
       "200"
      ]
     },
     "execution_count": 13,
     "metadata": {},
     "output_type": "execute_result"
    }
   ],
   "source": [
    "# bit solution\n",
    "def multiply(a, b):\n",
    "    shift = 0\n",
    "    res = 0\n",
    "    while b != 0:\n",
    "        if b & 1 == 1:\n",
    "            res += a << shift \n",
    "        shift += 1\n",
    "        b = b >> 1\n",
    "    return res\n",
    "\n",
    "multiply(20,10)"
   ]
  },
  {
   "cell_type": "code",
   "execution_count": 24,
   "id": "6a642870",
   "metadata": {},
   "outputs": [
    {
     "data": {
      "text/plain": [
       "2489"
      ]
     },
     "execution_count": 24,
     "metadata": {},
     "output_type": "execute_result"
    }
   ],
   "source": [
    "# recursive solution\n",
    "def multiply(a, b):\n",
    "    #a*b = (a//2 * b) + (a//2 * b)\n",
    "    #a*b = (a//2 * b) + (a//2 * b) + b #a is odd\n",
    "    sm = min(a,b)\n",
    "    bg = max(a,b)\n",
    "    #base case\n",
    "    def helper(sm, bg):\n",
    "        if sm == 0:\n",
    "            return 0\n",
    "        if sm == 1:\n",
    "            return bg\n",
    "\n",
    "        half = sm >> 1 # //2\n",
    "        half_prod = helper(half, bg)\n",
    "\n",
    "        if sm % 2 == 0:\n",
    "            return half_prod + half_prod\n",
    "\n",
    "        else:\n",
    "            return half_prod + half_prod + bg\n",
    "\n",
    "    return helper(sm, bg)\n",
    "\n",
    "\n",
    "multiply(19,131)"
   ]
  },
  {
   "cell_type": "code",
   "execution_count": null,
   "id": "cbcd904b",
   "metadata": {},
   "outputs": [],
   "source": []
  }
 ],
 "metadata": {
  "kernelspec": {
   "display_name": "Python 3",
   "language": "python",
   "name": "python3"
  },
  "language_info": {
   "codemirror_mode": {
    "name": "ipython",
    "version": 3
   },
   "file_extension": ".py",
   "mimetype": "text/x-python",
   "name": "python",
   "nbconvert_exporter": "python",
   "pygments_lexer": "ipython3",
   "version": "3.10.5"
  }
 },
 "nbformat": 4,
 "nbformat_minor": 5
}

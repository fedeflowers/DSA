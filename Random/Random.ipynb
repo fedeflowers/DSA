{
 "cells": [
  {
   "cell_type": "markdown",
   "id": "ba91e970",
   "metadata": {},
   "source": [
    "# Multiplication\n",
    "multiply 2 numbers without * number"
   ]
  },
  {
   "cell_type": "code",
   "execution_count": 13,
   "id": "40747854",
   "metadata": {},
   "outputs": [
    {
     "data": {
      "text/plain": [
       "200"
      ]
     },
     "execution_count": 13,
     "metadata": {},
     "output_type": "execute_result"
    }
   ],
   "source": [
    "# bit solution\n",
    "def multiply(a, b):\n",
    "    shift = 0\n",
    "    res = 0\n",
    "    while b != 0:\n",
    "        if b & 1 == 1:\n",
    "            res += a << shift \n",
    "        shift += 1\n",
    "        b = b >> 1\n",
    "    return res\n",
    "\n",
    "multiply(20,10)"
   ]
  },
  {
   "cell_type": "code",
   "execution_count": 24,
   "id": "6a642870",
   "metadata": {},
   "outputs": [
    {
     "data": {
      "text/plain": [
       "2489"
      ]
     },
     "execution_count": 24,
     "metadata": {},
     "output_type": "execute_result"
    }
   ],
   "source": [
    "# recursive solution\n",
    "def multiply(a, b):\n",
    "    #a*b = (a//2 * b) + (a//2 * b)\n",
    "    #a*b = (a//2 * b) + (a//2 * b) + b #a is odd\n",
    "    sm = min(a,b)\n",
    "    bg = max(a,b)\n",
    "    #base case\n",
    "    def helper(sm, bg):\n",
    "        if sm == 0:\n",
    "            return 0\n",
    "        if sm == 1:\n",
    "            return bg\n",
    "\n",
    "        half = sm >> 1 # //2\n",
    "        half_prod = helper(half, bg)\n",
    "\n",
    "        if sm % 2 == 0:\n",
    "            return half_prod + half_prod\n",
    "\n",
    "        else:\n",
    "            return half_prod + half_prod + bg\n",
    "\n",
    "    return helper(sm, bg)\n",
    "\n",
    "\n",
    "multiply(19,131)"
   ]
  },
  {
   "cell_type": "code",
   "execution_count": null,
   "id": "cbcd904b",
   "metadata": {},
   "outputs": [],
   "source": [
    "#GCD\n",
    "\n",
    "def gcd(a,b):\n",
    "    while b > 0:\n",
    "        a,b = b, a%b\n",
    "    return a\n",
    "\n",
    "\n",
    "#SIEVE\n",
    "#find all primes in seq n\n",
    "def sieve(n):\n",
    "    #find primes in a seq of n numbers\n",
    "    primes = [True] * (n + 1)\n",
    "    primes[0] = False\n",
    "    primes[1] = False\n",
    "    prime = 2\n",
    "    while prime*prime < n:\n",
    "        if primes[prime]:\n",
    "            for i in range(prime*prime, n+1, prime):\n",
    "                primes[i] = False\n",
    "        prime += 1\n",
    "\n",
    "\n",
    "    return [i for i in range(len(primes)) if primes[i]]\n"
   ]
  }
 ],
 "metadata": {
  "kernelspec": {
   "display_name": "Python 3",
   "language": "python",
   "name": "python3"
  },
  "language_info": {
   "codemirror_mode": {
    "name": "ipython",
    "version": 3
   },
   "file_extension": ".py",
   "mimetype": "text/x-python",
   "name": "python",
   "nbconvert_exporter": "python",
   "pygments_lexer": "ipython3",
   "version": "3.10.5"
  }
 },
 "nbformat": 4,
 "nbformat_minor": 5
}

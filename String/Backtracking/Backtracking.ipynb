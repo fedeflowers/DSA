{
 "cells": [
  {
   "cell_type": "markdown",
   "metadata": {},
   "source": [
    "# leet 2375\n",
    "\n",
    "the idea is to generate all the strings.\n",
    "how does it works:\n",
    "base case: when it creates the final string it returns it.\n",
    "recursion: if the pattern contains I than the el to put must be greater than the previous. else if contains a D is the opposite.\n",
    "it works because the nums list is ordered so the number taken is always the smallest.\n",
    "if it's not possible to create a string None is returned so discard all Nones. and keep the first string created with smallest numbers.\n",
    "it is also greedy because the smallest is always taken\n",
    "it is not necessary to use numbers since with strings \"2\" > \"1\" and so on..."
   ]
  },
  {
   "cell_type": "code",
   "execution_count": null,
   "metadata": {},
   "outputs": [],
   "source": [
    "class Solution:\n",
    "    def smallestNumber(self, pattern: str) -> str:\n",
    "        nums = [str(i) for i in range(1, 10)]\n",
    "\n",
    "        def build(start, pattern, index, nums):\n",
    "            if index == len(pattern):\n",
    "                return start\n",
    "\n",
    "            for i in range(len(nums)):\n",
    "                if pattern[index] == 'I':\n",
    "                    if nums[i] > start[index]:\n",
    "                        res = build(start + nums[i], pattern, index+1, nums[:i] + nums[i+1:])\n",
    "                        if res:\n",
    "                            return res\n",
    "                else:\n",
    "                    if nums[i] < start[index]:\n",
    "                        res = build(start + nums[i], pattern, index+1, nums[:i] + nums[i+1:])\n",
    "                        if res:\n",
    "                            return res\n",
    "        \n",
    "        for i in range(len(nums)):\n",
    "            res = build(nums[i], pattern, 0, nums[:i] + nums[i+1:])\n",
    "            if res:\n",
    "                return res"
   ]
  }
 ],
 "metadata": {
  "language_info": {
   "name": "python"
  }
 },
 "nbformat": 4,
 "nbformat_minor": 2
}

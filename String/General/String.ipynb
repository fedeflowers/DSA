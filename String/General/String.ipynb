{
 "cells": [
  {
   "cell_type": "markdown",
   "metadata": {},
   "source": [
    "# 3174. Clear Digits\n",
    "\n",
    "use a stack, append if the char is not a digit, pop if it's a digit and there is something in the stack"
   ]
  },
  {
   "cell_type": "code",
   "execution_count": null,
   "metadata": {},
   "outputs": [],
   "source": [
    "class Solution:\n",
    "    def clearDigits(self, s: str) -> str:\n",
    "        stack = []\n",
    "        for c in s:\n",
    "            if c.isdigit():\n",
    "                if stack:\n",
    "                    stack.pop()\n",
    "            else:\n",
    "                stack.append(c)\n",
    "        return \"\".join(stack)"
   ]
  },
  {
   "cell_type": "code",
   "execution_count": 2,
   "metadata": {},
   "outputs": [
    {
     "data": {
      "text/plain": [
       "[1, 2, 2, 3, 4, 5, 5, 6, 6, 7, 8, 9, 10, 29, 32, 51, 123, 431]"
      ]
     },
     "execution_count": 2,
     "metadata": {},
     "output_type": "execute_result"
    }
   ],
   "source": [
    "arr = [29, 32,1, 2, 3 ,5, 6, 123, 4, 5, 6, 7, 8, 9, 10, 2, 51,431]\n",
    "import random\n",
    "def quicksort(arr):\n",
    "    if len(arr) <= 1:\n",
    "        return arr\n",
    "    pivot = arr[random.randint(0, len(arr) - 1)]\n",
    "    lower = [x for x in arr if x < pivot]\n",
    "    middle = [x for x in arr if x == pivot]\n",
    "    high = [x for x in arr if x > pivot]\n",
    "    return quicksort(lower) + middle + quicksort(high)\n",
    "\n",
    "quicksort(arr)\n"
   ]
  },
  {
   "cell_type": "code",
   "execution_count": 3,
   "metadata": {},
   "outputs": [
    {
     "data": {
      "text/plain": [
       "[1, 2, 2, 3, 4, 5, 5, 6, 6, 7, 8, 9, 10, 29, 32, 51, 123, 431]"
      ]
     },
     "execution_count": 3,
     "metadata": {},
     "output_type": "execute_result"
    }
   ],
   "source": [
    "arr = [29, 32,1, 2, 3 ,5, 6, 123, 4, 5, 6, 7, 8, 9, 10, 2, 51,431]\n",
    "\n",
    "def mergesort(arr):\n",
    "    def sort2(a, b):\n",
    "        i = j = 0\n",
    "        res = []\n",
    "        while i < len(a) and j < len(b):\n",
    "            if a[i] < b[j]:\n",
    "                res.append(a[i])\n",
    "                i += 1\n",
    "            else:\n",
    "                res.append(b[j])\n",
    "                j+=1\n",
    "\n",
    "        res += a[i:]\n",
    "        res += b[j:]\n",
    "        return res\n",
    "    if len(arr) <= 1:\n",
    "        return arr\n",
    "    \n",
    "    middle = len(arr) //2\n",
    "    left = mergesort(arr[:middle])\n",
    "    right = mergesort(arr[middle:])\n",
    "    return sort2(left, right)\n",
    "\n",
    "mergesort(arr)\n",
    "\n",
    "\n"
   ]
  },
  {
   "cell_type": "code",
   "execution_count": null,
   "metadata": {},
   "outputs": [],
   "source": []
  }
 ],
 "metadata": {
  "kernelspec": {
   "display_name": "base",
   "language": "python",
   "name": "python3"
  },
  "language_info": {
   "codemirror_mode": {
    "name": "ipython",
    "version": 3
   },
   "file_extension": ".py",
   "mimetype": "text/x-python",
   "name": "python",
   "nbconvert_exporter": "python",
   "pygments_lexer": "ipython3",
   "version": "3.12.2"
  }
 },
 "nbformat": 4,
 "nbformat_minor": 2
}

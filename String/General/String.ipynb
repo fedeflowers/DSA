{
 "cells": [
  {
   "cell_type": "markdown",
   "metadata": {},
   "source": [
    "# 3174. Clear Digits\n",
    "\n",
    "Use a stack: append if the char is not a digit, pop if it's a digit and there is something in the stack."
   ]
  },
  {
   "cell_type": "code",
   "execution_count": null,
   "metadata": {},
   "outputs": [],
   "source": [
    "class Solution:\n",
    "    def clearDigits(self, s: str) -> str:\n",
    "        stack = []\n",
    "        for c in s:\n",
    "            if c.isdigit():\n",
    "                if stack:\n",
    "                    stack.pop()\n",
    "            else:\n",
    "                stack.append(c)\n",
    "        return \"\".join(stack)"
   ]
  },
  {
   "cell_type": "code",
   "execution_count": null,
   "metadata": {},
   "outputs": [],
   "source": [
    "s = \"dsahjpjauf\"\n",
    "words = [\"ahjpjau\", \"ja\", \"ahbwzgqnuk\", \"tnmlanowax\"]\n",
    "\n",
    "from collections import Counter\n",
    "\n",
    "def find_substrings(s, words):\n",
    "    sc = Counter(s)\n",
    "    counters = []\n",
    "    res = 0\n",
    "    for word in words:\n",
    "        cw = Counter(word)\n",
    "        counters.append(cw)\n",
    "\n",
    "    for i in range(len(counters)):\n",
    "        el = counters[i]\n",
    "        res += 1\n",
    "        for key, val in el.items():\n",
    "            if key not in sc:\n",
    "                res -= 1\n",
    "                break\n",
    "            if sc[key] < val:\n",
    "                res -= 1\n",
    "                break\n",
    "    return res\n",
    "\n",
    "find_substrings(s, words)"
   ]
  },
  {
   "cell_type": "markdown",
   "metadata": {},
   "source": [
    "https://leetcode.com/discuss/post/6705226/google-swe-iii-interview-experience-hyde-e8d9/\n",
    "\n",
    "Given N as input, count the number of patterned strings.\n",
    "\n",
    "Patterned strings are strings whose substring gives the string itself of length N when repeated any number of times. (Only A and B characters are present)\n",
    "\n",
    "Input: 4\n",
    "Output: 4\n",
    "\n",
    "The strings are {AAAA, BBBB, ABAB, BABA}\n",
    "\n",
    "{AABA, AAAB, AABB} are not valid."
   ]
  },
  {
   "cell_type": "code",
   "execution_count": 25,
   "metadata": {},
   "outputs": [
    {
     "data": {
      "text/plain": [
       "10"
      ]
     },
     "execution_count": 25,
     "metadata": {},
     "output_type": "execute_result"
    }
   ],
   "source": [
    "def patterned_strings(n):\n",
    "    primitive_counts = [0] * (n+1)\n",
    "    all_counts = [0]\n",
    "    for i in range(1, n+1):\n",
    "        all_counts.append(2**i)\n",
    "    \n",
    "    for i in range(len(all_counts)):\n",
    "        primitive = 0\n",
    "        for j in range(1, i):\n",
    "            if i % j == 0:\n",
    "                primitive += primitive_counts[j]\n",
    "\n",
    "        primitive_counts[i] = all_counts[i] - primitive\n",
    "\n",
    "    res = 0\n",
    "    for i in range(1, n):\n",
    "        if n % i == 0:\n",
    "            res += primitive_counts[i]\n",
    "    return res\n",
    "\n",
    "patterned_strings(6)"
   ]
  },
  {
   "cell_type": "code",
   "execution_count": null,
   "metadata": {},
   "outputs": [],
   "source": []
  }
 ],
 "metadata": {
  "kernelspec": {
   "display_name": "Python 3",
   "language": "python",
   "name": "python3"
  },
  "language_info": {
   "codemirror_mode": {
    "name": "ipython",
    "version": 3
   },
   "file_extension": ".py",
   "mimetype": "text/x-python",
   "name": "python",
   "nbconvert_exporter": "python",
   "pygments_lexer": "ipython3",
   "version": "3.10.5"
  }
 },
 "nbformat": 4,
 "nbformat_minor": 2
}

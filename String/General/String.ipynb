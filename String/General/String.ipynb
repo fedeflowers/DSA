{
 "cells": [
  {
   "cell_type": "markdown",
   "metadata": {},
   "source": [
    "# 3174. Clear Digits\n",
    "\n",
    "use a stack, append if the char is not a digit, pop if it's a digit and there is something in the stack"
   ]
  },
  {
   "cell_type": "code",
   "execution_count": null,
   "metadata": {},
   "outputs": [],
   "source": [
    "class Solution:\n",
    "    def clearDigits(self, s: str) -> str:\n",
    "        stack = []\n",
    "        for c in s:\n",
    "            if c.isdigit():\n",
    "                if stack:\n",
    "                    stack.pop()\n",
    "            else:\n",
    "                stack.append(c)\n",
    "        return \"\".join(stack)"
   ]
  },
  {
   "cell_type": "code",
   "execution_count": null,
   "metadata": {},
   "outputs": [
    {
     "data": {
      "text/plain": [
       "0"
      ]
     },
     "execution_count": 4,
     "metadata": {},
     "output_type": "execute_result"
    }
   ],
   "source": [
    "# s = \"abcde\"\n",
    "# words = [\"a\", \"bb\", \"acd\", \"ace\"]\n",
    "s = \"dsahjpjauf\"\n",
    "words = [\"ahjpjau\", \"ja\", \"ahbwzgqnuk\", \"tnmlanowax\"]\n",
    "\n",
    "from collections import Counter\n",
    "\n",
    "def find_substrings(s, words):\n",
    "    sc = Counter(s)\n",
    "    counters = []\n",
    "    res = 0\n",
    "    for word in words:\n",
    "        cw = Counter(word)\n",
    "        counters.append(cw)\n",
    "\n",
    "    for i in range(len(counters)):\n",
    "        el = counters[i]\n",
    "        res+=1\n",
    "        for key, val in el.items():\n",
    "            if key not in sc:\n",
    "                res-=1\n",
    "                break\n",
    "            if sc[key] < val:\n",
    "                res -=1\n",
    "                break\n",
    "\n",
    "\n",
    "    return res\n",
    "\n",
    "find_substrings(s, words)\n",
    "\n",
    "    \n"
   ]
  },
  {
   "cell_type": "markdown",
   "metadata": {},
   "source": [
    "https://leetcode.com/discuss/post/6705226/google-swe-iii-interview-experience-hyde-e8d9/\n",
    "\n",
    "Given N as input, count the number of patterned strings.\n",
    "\n",
    "Patterned strings are strings whose substring gives the string itself of length N when repeated any any number of times.(Only A and B characters are present)\n",
    "\n",
    "Input: 4\n",
    "Output: 4\n",
    "\n",
    "The strings are {AAAA, BBBB, ABAB, BABA}\n",
    "\n",
    "{AABA, AAAB, AABB} are not valid."
   ]
  },
  {
   "cell_type": "code",
   "execution_count": 21,
   "metadata": {},
   "outputs": [
    {
     "data": {
      "text/plain": [
       "10"
      ]
     },
     "execution_count": 21,
     "metadata": {},
     "output_type": "execute_result"
    }
   ],
   "source": [
    "import math\n",
    "\n",
    "def patterned_strings(n):\n",
    "    \"\"\"\n",
    "    Counts the number of patterned strings of length n using 'A' and 'B'.\n",
    "    A patterned string is interpreted as a string that can be formed by\n",
    "    repeating a proper substring of itself (non-primitive strings).\n",
    "    This is done by iteratively calculating the number of primitive strings\n",
    "    of lengths up to n.\n",
    "    \"\"\"\n",
    "    if n <= 0:\n",
    "        return 0\n",
    "    if n == 1:\n",
    "         # A string of length 1 cannot be formed by repeating a proper substring.\n",
    "         return 0\n",
    "\n",
    "    # primitive_count[i] will store the number of primitive strings of length i\n",
    "    # Initialize with 0s for lengths 0 to n\n",
    "    primitive_count = [0] * (n + 1)\n",
    "    \n",
    "    # Iterate through lengths from 1 to n to calculate primitive_count for each length\n",
    "    for i in range(1, n + 1):\n",
    "        # Total number of strings of length i\n",
    "        total_strings_len_i = 2 ** i\n",
    "        \n",
    "        # Sum of primitive_count(k) for all proper divisors k of i\n",
    "        sum_of_smaller_primitive_counts = 0\n",
    "        # Iterate through possible proper divisor lengths k\n",
    "        for k in range(1, i):\n",
    "            if i % k == 0:\n",
    "                sum_of_smaller_primitive_counts += primitive_count[k]\n",
    "        \n",
    "        # The number of primitive strings of length i is the total number of strings\n",
    "        # of length i minus those that are formed by repeating shorter primitive strings.\n",
    "        primitive_count[i] = total_strings_len_i - sum_of_smaller_primitive_counts\n",
    "\n",
    "    # The number of patterned strings of length n is the sum of primitive_count(d)\n",
    "    # for all proper divisors d of n. These are the strings whose smallest period\n",
    "    # is a proper divisor of n.\n",
    "    num_patterned = 0\n",
    "    # Iterate through possible proper divisor lengths d of n\n",
    "    for d in range(1, n):\n",
    "        if n % d == 0:\n",
    "            num_patterned += primitive_count[d]\n",
    "\n",
    "    return num_patterned\n",
    "\n",
    "patterned_strings(6)"
   ]
  },
  {
   "cell_type": "code",
   "execution_count": 24,
   "metadata": {},
   "outputs": [],
   "source": [
    "def patterned_strings(n):\n",
    "    primitive_counts = [0] * (n+1)\n",
    "    all_counts = [0]\n",
    "    for i in range(1,n+1):\n",
    "        all_counts.append(2**i)\n",
    "    \n",
    "    for i in range(len(all_counts)):\n",
    "        primitive = 0\n",
    "        for j in range(1, i):\n",
    "            if i % j == 0:\n",
    "                primitive += primitive_counts[j]\n",
    "\n",
    "        primitive_counts[i] = all_counts[i] - primitive\n",
    "\n",
    "    res = 0\n",
    "    for i in range(1, n):\n",
    "        if n % i == 0 :\n",
    "            res += primitive_counts[i]\n",
    "    return res"
   ]
  },
  {
   "cell_type": "code",
   "execution_count": 25,
   "metadata": {},
   "outputs": [
    {
     "data": {
      "text/plain": [
       "10"
      ]
     },
     "execution_count": 25,
     "metadata": {},
     "output_type": "execute_result"
    }
   ],
   "source": [
    "patterned_strings(6)"
   ]
  },
  {
   "cell_type": "code",
   "execution_count": null,
   "metadata": {},
   "outputs": [],
   "source": []
  }
 ],
 "metadata": {
  "kernelspec": {
   "display_name": "Python 3",
   "language": "python",
   "name": "python3"
  },
  "language_info": {
   "codemirror_mode": {
    "name": "ipython",
    "version": 3
   },
   "file_extension": ".py",
   "mimetype": "text/x-python",
   "name": "python",
   "nbconvert_exporter": "python",
   "pygments_lexer": "ipython3",
   "version": "3.10.5"
  }
 },
 "nbformat": 4,
 "nbformat_minor": 2
}

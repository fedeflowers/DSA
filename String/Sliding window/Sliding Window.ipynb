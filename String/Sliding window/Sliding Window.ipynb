{
 "cells": [
  {
   "cell_type": "markdown",
   "metadata": {},
   "source": [
    "# leet 3306\n",
    "same as editorial"
   ]
  },
  {
   "cell_type": "code",
   "execution_count": null,
   "metadata": {},
   "outputs": [],
   "source": [
    "class Solution:\n",
    "    def _isVowel(self, c: str) -> bool:\n",
    "        return c == \"a\" or c == \"e\" or c == \"i\" or c == \"o\" or c == \"u\"\n",
    "\n",
    "    def countOfSubstrings(self, word: str, k: int) -> int:\n",
    "        num_valid_substrings = 0\n",
    "        start = end = 0\n",
    "        vowel_count = {}  # Dictionary to keep counts of vowels\n",
    "        consonant_count = 0  # Count of consonants\n",
    "        next_consonant = [0] * len(\n",
    "            word\n",
    "        )  # Array to compute index of next consonant for all indices\n",
    "        next_consonant_index = len(word)\n",
    "\n",
    "        for i in range(len(word) - 1, -1, -1):\n",
    "            next_consonant[i] = next_consonant_index\n",
    "            if not self._isVowel(word[i]):\n",
    "                next_consonant_index = i\n",
    "\n",
    "        while end < len(word):\n",
    "            new_letter = word[end]\n",
    "            if self._isVowel(new_letter):\n",
    "                vowel_count[new_letter] = vowel_count.get(new_letter, 0) + 1\n",
    "            else:\n",
    "                consonant_count += 1\n",
    "\n",
    "            while (\n",
    "                consonant_count > k\n",
    "            ):  # Shrink window if too many consonants are present\n",
    "                start_letter = word[start]\n",
    "                if self._isVowel(start_letter):\n",
    "                    vowel_count[start_letter] -= 1\n",
    "                    if vowel_count[start_letter] == 0:\n",
    "                        del vowel_count[start_letter]\n",
    "                else:\n",
    "                    consonant_count -= 1\n",
    "                start += 1\n",
    "\n",
    "            while (\n",
    "                start < len(word)\n",
    "                and len(vowel_count) == 5\n",
    "                and consonant_count == k\n",
    "            ):  # Try to shrink if window is valid\n",
    "                num_valid_substrings += next_consonant[end] - end\n",
    "                start_letter = word[start]\n",
    "                if self._isVowel(start_letter):\n",
    "                    vowel_count[start_letter] -= 1\n",
    "                    if vowel_count[start_letter] == 0:\n",
    "                        del vowel_count[start_letter]\n",
    "                else:\n",
    "                    consonant_count -= 1\n",
    "                start += 1\n",
    "\n",
    "            end += 1\n",
    "\n",
    "        return num_valid_substrings"
   ]
  },
  {
   "cell_type": "markdown",
   "metadata": {},
   "source": [
    "# leet 1358"
   ]
  },
  {
   "cell_type": "code",
   "execution_count": null,
   "metadata": {},
   "outputs": [],
   "source": [
    "class Solution:\n",
    "    def numberOfSubstrings(self, s: str) -> int:\n",
    "        n = len(s)\n",
    "        left = right = 0\n",
    "        count = {}\n",
    "        res = 0\n",
    "\n",
    "        while right < n:\n",
    "            count[s[right]] = count.get(s[right], 0) + 1\n",
    "\n",
    "            while len(count) == 3:\n",
    "                res += n - right\n",
    "                count[s[left]] -= 1\n",
    "                if count[s[left]] == 0:\n",
    "                    del count[s[left]]\n",
    "                left +=1\n",
    "\n",
    "            right += 1\n",
    "\n",
    "        return res\n",
    "\n",
    "        "
   ]
  }
 ],
 "metadata": {
  "language_info": {
   "name": "python"
  }
 },
 "nbformat": 4,
 "nbformat_minor": 2
}
